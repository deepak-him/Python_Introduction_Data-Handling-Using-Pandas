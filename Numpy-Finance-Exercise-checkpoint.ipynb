{
 "cells": [
  {
   "cell_type": "markdown",
   "id": "2e3a84fb",
   "metadata": {},
   "source": [
    "# Project: Financial Analysis with NumPy\n",
    "\n",
    "## Problem Statement\n",
    "\n",
    "You are a financial analyst working for a company called \"FinCorp.\" Your task is to analyze the financial data of FinCorp, calculate important financial metrics, and make data-driven decisions to improve the company's financial performance. You will utilize various NumPy concepts, including array creation, manipulation, mathematical functions, indexing, slicing, and more.\n",
    "\n",
    "## Project Steps\n",
    "\n",
    "### Step 1: Load and Organize Data\n",
    "\n",
    "Load the financial data into NumPy arrays. The data includes quarterly revenue, expenses, and profits for the past five years.\n"
   ]
  },
  {
   "cell_type": "code",
   "execution_count": 3,
   "id": "17c5e0c3",
   "metadata": {},
   "outputs": [],
   "source": [
    "import numpy as np\n",
    "\n",
    "# Load financial data\n",
    "revenue = np.array([[1200, 1300, 1400, 1500, 1600],\n",
    "                    [1100, 1250, 1350, 1450, 1550],\n",
    "                    [1300, 1350, 1450, 1550, 1650]])\n",
    "\n",
    "expenses = np.array([[800, 900, 1000, 1100, 1200],\n",
    "                     [750, 850, 950, 1050, 1150],\n",
    "                     [900, 950, 1050, 1150, 1250]])\n",
    "\n",
    "profits = np.array([[400, 400, 400, 400, 400],\n",
    "                    [350, 400, 400, 400, 400],\n",
    "                    [400, 400, 400, 400, 400]])"
   ]
  },
  {
   "cell_type": "markdown",
   "id": "5370d5dc",
   "metadata": {},
   "source": [
    "### Step 2: Calculate Key Metrics\n",
    "\n",
    "Calculate important financial metrics to assess the company's performance:\n",
    "\n",
    "#### 2.1 Gross Profit Margin"
   ]
  },
  {
   "cell_type": "code",
   "execution_count": 5,
   "id": "5ea8e3dd",
   "metadata": {},
   "outputs": [
    {
     "name": "stdout",
     "output_type": "stream",
     "text": [
      "Gross Profit Margin:\n",
      "[[33.33333333 30.76923077 28.57142857 26.66666667 25.        ]\n",
      " [31.81818182 32.         29.62962963 27.5862069  25.80645161]\n",
      " [30.76923077 29.62962963 27.5862069  25.80645161 24.24242424]]\n"
     ]
    }
   ],
   "source": [
    "# Calculate gross profit margin for each quarter\n",
    "gross_profit_margin = \n",
    "\n",
    "# Display gross profit margin\n",
    "print(\"Gross Profit Margin:\")\n",
    "print(gross_profit_margin)"
   ]
  },
  {
   "cell_type": "markdown",
   "id": "f7d8f791",
   "metadata": {},
   "source": [
    "#### 2.2 Net Profit Margin"
   ]
  },
  {
   "cell_type": "code",
   "execution_count": 6,
   "id": "9b07ecd9",
   "metadata": {},
   "outputs": [
    {
     "name": "stdout",
     "output_type": "stream",
     "text": [
      "Net Profit Margin:\n",
      "[[33.33333333 30.76923077 28.57142857 26.66666667 25.        ]\n",
      " [31.81818182 32.         29.62962963 27.5862069  25.80645161]\n",
      " [30.76923077 29.62962963 27.5862069  25.80645161 24.24242424]]\n"
     ]
    }
   ],
   "source": [
    "# Calculate net profit margin for each quarter\n",
    "net_profit_margin = \n",
    "\n",
    "# Display net profit margin\n",
    "print(\"Net Profit Margin:\")\n",
    "print(net_profit_margin)"
   ]
  },
  {
   "cell_type": "markdown",
   "id": "a7da310a",
   "metadata": {},
   "source": [
    "### Step 3: Analyze Data Trends\n",
    "\n",
    "Analyze the calculated metrics to identify trends and insights:"
   ]
  },
  {
   "cell_type": "code",
   "execution_count": 7,
   "id": "df356892",
   "metadata": {},
   "outputs": [
    {
     "name": "stdout",
     "output_type": "stream",
     "text": [
      "Year 1\n",
      "  Recommendation: Financial performance needs improvement\n",
      "Year 2\n",
      "  Recommendation: Financial performance needs improvement\n",
      "Year 3\n",
      "  Recommendation: Financial performance needs improvement\n"
     ]
    }
   ],
   "source": [
    "# Analyze data trends and insights\n"
   ]
  },
  {
   "cell_type": "markdown",
   "id": "ff15d34e",
   "metadata": {},
   "source": [
    "### Step 4: Investment Decision\n",
    "\n",
    "Make an investment decision based on the analysis. Recommend an investment if both gross profit margin and net profit margin are favorable; otherwise, suggest cost-saving measures."
   ]
  },
  {
   "cell_type": "code",
   "execution_count": 8,
   "id": "08910312",
   "metadata": {},
   "outputs": [
    {
     "name": "stdout",
     "output_type": "stream",
     "text": [
      "Recommendation: Implement cost-saving measures\n"
     ]
    }
   ],
   "source": [
    "# Make investment decision\n"
   ]
  },
  {
   "cell_type": "markdown",
   "id": "43d957e6",
   "metadata": {},
   "source": [
    "### Step 5: Financial Snapshot\n",
    "\n",
    "Provide a financial snapshot of a specific year, including revenue, expenses, and profits.\n"
   ]
  },
  {
   "cell_type": "code",
   "execution_count": 9,
   "id": "b19c19d4",
   "metadata": {
    "scrolled": true
   },
   "outputs": [
    {
     "name": "stdout",
     "output_type": "stream",
     "text": [
      "Financial Snapshot for Year 2\n",
      "Revenue: [1300 1250 1350]\n",
      "Expenses: [900 850 950]\n",
      "Profits: [400 400 400]\n"
     ]
    }
   ],
   "source": [
    "# Financial snapshot for a specific year\n",
    "year = 2\n"
   ]
  },
  {
   "cell_type": "markdown",
   "id": "3024019e",
   "metadata": {},
   "source": [
    "### Step 6: Analyze Quarterly Performance\n",
    "\n",
    "Analyze the quarterly performance by comparing revenue, expenses, and profits across different quarters."
   ]
  },
  {
   "cell_type": "code",
   "execution_count": 9,
   "id": "acd8b6b6",
   "metadata": {},
   "outputs": [
    {
     "name": "stdout",
     "output_type": "stream",
     "text": [
      "Performance Analysis for Quarter 3\n",
      "Revenue: [1300 1350 1450 1550 1650]\n",
      "Expenses: [ 900  950 1050 1150 1250]\n",
      "Profits: [400 400 400 400 400]\n"
     ]
    }
   ],
   "source": [
    "# Analyze quarterly performance\n",
    "quarter = 3\n"
   ]
  },
  {
   "cell_type": "code",
   "execution_count": null,
   "id": "f6cbe67d",
   "metadata": {},
   "outputs": [],
   "source": []
  }
 ],
 "metadata": {
  "kernelspec": {
   "display_name": "Python 3 (ipykernel)",
   "language": "python",
   "name": "python3"
  },
  "language_info": {
   "codemirror_mode": {
    "name": "ipython",
    "version": 3
   },
   "file_extension": ".py",
   "mimetype": "text/x-python",
   "name": "python",
   "nbconvert_exporter": "python",
   "pygments_lexer": "ipython3",
   "version": "3.9.10"
  }
 },
 "nbformat": 4,
 "nbformat_minor": 5
}
