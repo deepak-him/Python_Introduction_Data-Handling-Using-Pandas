{
 "cells": [
  {
   "cell_type": "markdown",
   "id": "3021b900",
   "metadata": {},
   "source": [
    "## Atomic Data Types and Comparison\n",
    "\n",
    "**Introduction:**\n",
    "In the e-commerce landscape, accurate data representation and decision-making are paramount. In this section, we'll delve deeper into atomic data types and explore comparison operators, which allow us to make meaningful decisions based on data. We'll work with integers, strings, floating-point numbers, boolean values, and comparison operators to enhance our retail application.\n",
    "\n",
    "**1. Integers: Efficient Order Management**\n",
    "\n",
    "Efficient order management requires evaluating the quantities of products ordered. Integers enable precise quantity calculations.\n",
    "\n",
    "**Example Code:**"
   ]
  },
  {
   "cell_type": "code",
   "execution_count": 1,
   "id": "92bce937",
   "metadata": {},
   "outputs": [],
   "source": [
    "# Sample order quantities\n",
    "order_quantity_laptops = 10\n",
    "order_quantity_phones = 25\n",
    "\n",
    "# Total number of items ordered\n",
    "total_items_ordered = order_quantity_laptops + order_quantity_phones"
   ]
  },
  {
   "cell_type": "markdown",
   "id": "165eafe2",
   "metadata": {},
   "source": [
    "**Explanation:**\n",
    "Integers (`int`) are fundamental for representing whole numbers. In our scenario, integers are used to quantify product orders, and we calculate the total items ordered by summing individual quantities."
   ]
  },
  {
   "cell_type": "markdown",
   "id": "7ff8b8e9",
   "metadata": {},
   "source": [
    "**2. Strings: Enhanced Product Presentation**\n",
    "\n",
    "Presenting products effectively to customers is vital. Strings allow us to represent product names and descriptions.\n",
    "\n",
    "**Example Code:**"
   ]
  },
  {
   "cell_type": "code",
   "execution_count": 2,
   "id": "dbb210f3",
   "metadata": {},
   "outputs": [
    {
     "name": "stdout",
     "output_type": "stream",
     "text": [
      "Product: Dell Inspiron\n",
      "Product: iPhone 13\n"
     ]
    }
   ],
   "source": [
    "# Sample product names\n",
    "product_name_laptop = \"Dell Inspiron\"\n",
    "product_name_phone = \"iPhone 13\"\n",
    "\n",
    "# Display product names\n",
    "print(f\"Product: {product_name_laptop}\")\n",
    "print(f\"Product: {product_name_phone}\")"
   ]
  },
  {
   "cell_type": "markdown",
   "id": "a6c69e6e",
   "metadata": {},
   "source": [
    "**Explanation:**\n",
    "Strings (`str`) are sequences of characters enclosed in quotes. In our e-commerce context, strings are used to denote product names. The `print()` function showcases these names to customers."
   ]
  },
  {
   "cell_type": "markdown",
   "id": "85f77bff",
   "metadata": {},
   "source": [
    "**3. Floating-Point Numbers: Precise Price Calculations**\n",
    "\n",
    "Precise price calculations are essential for order processing. Floating-point numbers ensure accurate financial computations.\n",
    "\n",
    "**Example Code:**"
   ]
  },
  {
   "cell_type": "code",
   "execution_count": 3,
   "id": "8ee9aecb",
   "metadata": {},
   "outputs": [],
   "source": [
    "# Sample product prices\n",
    "product_price_laptop = 899.99\n",
    "product_price_phone = 799.00\n",
    "\n",
    "# Calculate total order price\n",
    "total_order_price = product_price_laptop + product_price_phone"
   ]
  },
  {
   "cell_type": "markdown",
   "id": "3f20a510",
   "metadata": {},
   "source": [
    "**Explanation:**\n",
    "Floating-point numbers (`float`) represent decimal values. In our retail application, they symbolize product prices. Accurate financial calculations, such as total order price, are enabled through floating-point numbers."
   ]
  },
  {
   "cell_type": "markdown",
   "id": "a7afbf45",
   "metadata": {},
   "source": [
    "**4. Boolean Values and Comparison: Stock Availability Check**\n",
    "\n",
    "Effectively managing stock requires assessing availability. Boolean values and comparison operators help us determine whether products are in stock.\n",
    "\n",
    "**Example Code:**"
   ]
  },
  {
   "cell_type": "code",
   "execution_count": 4,
   "id": "61c80bb9",
   "metadata": {},
   "outputs": [
    {
     "name": "stdout",
     "output_type": "stream",
     "text": [
      "Laptop available False\n"
     ]
    }
   ],
   "source": [
    "# Sample stock availability\n",
    "stock_count_laptop = 0\n",
    "\n",
    "# Check stock status\n",
    "print(\"Laptop available {}\".format(stock_count_laptop > 0))"
   ]
  },
  {
   "cell_type": "code",
   "execution_count": 5,
   "id": "2ba400df",
   "metadata": {},
   "outputs": [
    {
     "name": "stdout",
     "output_type": "stream",
     "text": [
      "Laptop available True\n"
     ]
    }
   ],
   "source": [
    "# Sample stock availability\n",
    "stock_count_laptop = 34\n",
    "\n",
    "# Check stock status\n",
    "print(\"Laptop available {}\".format(stock_count_laptop > 0))"
   ]
  },
  {
   "cell_type": "markdown",
   "id": "a2cc3ef0",
   "metadata": {},
   "source": [
    "**Explanation:**\n",
    "Boolean values (`bool`) represent true or false conditions. In this example, we use a comparison with the desired quantity to determine if a laptop is in stock and available for order. The `and` operator combines the conditions."
   ]
  },
  {
   "cell_type": "markdown",
   "id": "aacdf8cb",
   "metadata": {},
   "source": [
    "## Exploring Data Structures\n",
    "\n",
    "**Introduction:**\n",
    "In the thriving world of e-commerce, managing and organizing data is a fundamental necessity. This section delves into data structures, the building blocks that enable us to efficiently store and manipulate information within our retail system.\n",
    "\n",
    "**1. Lists: Customer Favorites**\n",
    "Problem Statement: Store and display the names of popular products using a list, a versatile data structure.\n",
    "\n",
    "**Example Code:**"
   ]
  },
  {
   "cell_type": "code",
   "execution_count": 26,
   "id": "1e9c11d1",
   "metadata": {},
   "outputs": [
    {
     "name": "stdout",
     "output_type": "stream",
     "text": [
      "Customer Favorites: ['Laptop', 'Phone', 'Tablet', 'Headphones']\n"
     ]
    }
   ],
   "source": [
    "# Create a list of popular product names\n",
    "popular_products = [\"Laptop\", \"Phone\", \"Tablet\", \"Headphones\"]\n",
    "\n",
    "# Display popular product names\n",
    "print(\"Customer Favorites:\", popular_products)"
   ]
  },
  {
   "cell_type": "markdown",
   "id": "a1cb34f2",
   "metadata": {},
   "source": [
    "**Explanation:**\n",
    "Lists allow us to store multiple values in a single variable. In this example, we've created a list of popular product names and used a `for` loop to display them.\n",
    "\n",
    "**List Methods:**\n",
    "- `append()`: Add an item to the end of the list.\n",
    "- `insert()`: Insert an item at a specific index.\n",
    "- `remove()`: Remove the first occurrence of a value.\n",
    "- `pop()`: Remove an item at a specific index.\n",
    "- `index()`: Find the index of a value.\n",
    "- `count()`: Count occurrences of a value."
   ]
  },
  {
   "cell_type": "markdown",
   "id": "5e06f228",
   "metadata": {},
   "source": [
    "**2. Tuples: Order Tracking**\n",
    "Problem Statement: Store and manage order information using tuples, an immutable data structure.\n",
    "\n",
    "**Example Code:**"
   ]
  },
  {
   "cell_type": "code",
   "execution_count": 6,
   "id": "1fcaa5c8",
   "metadata": {},
   "outputs": [
    {
     "name": "stdout",
     "output_type": "stream",
     "text": [
      "Order 123: 2 Laptops for $1999.98\n"
     ]
    }
   ],
   "source": [
    "# Create a tuple for order information: order ID, product, quantity, price\n",
    "order_123 = (123, \"Laptop\", 2, 999.99)\n",
    "\n",
    "# Display order information\n",
    "order_id, product, quantity, price = order_123\n",
    "print(f\"Order {order_id}: {quantity} {product}s for ${price * quantity:.2f}\")"
   ]
  },
  {
   "cell_type": "markdown",
   "id": "b8f9a876",
   "metadata": {},
   "source": [
    "**Explanation:**\n",
    "Tuples are similar to lists but immutable, meaning their values cannot be changed after creation. In this example, we've used a tuple to store and display order information.\n",
    "\n",
    "**Tuple Methods:**\n",
    "- `count()`: Count occurrences of a value in the tuple.\n",
    "- `index()`: Find the index of a value in the tuple.\n",
    "\n",
    "**3. Sets: Customer Interests**\n",
    "Problem Statement: Maintain a set of unique customer interests to personalize recommendations.\n",
    "\n",
    "**Example Code:**"
   ]
  },
  {
   "cell_type": "code",
   "execution_count": 14,
   "id": "0237d839",
   "metadata": {},
   "outputs": [
    {
     "name": "stdout",
     "output_type": "stream",
     "text": [
      "Common Interests: {'Fashion'}\n"
     ]
    }
   ],
   "source": [
    "# Create sets of customer interests\n",
    "customer1_interests = {\"Electronics\", \"Fashion\", \"Books\"}\n",
    "customer2_interests = {\"Fashion\", \"Home\", \"Beauty\"}\n",
    "\n",
    "# Determine common interests between customers\n",
    "common_interests = customer1_interests.intersection(customer2_interests)\n",
    "print(\"Common Interests:\", common_interests)"
   ]
  },
  {
   "cell_type": "markdown",
   "id": "ceea66ff",
   "metadata": {},
   "source": [
    "**Explanation:**\n",
    "Sets are unordered collections of unique elements. In this example, we've created sets of customer interests and used the `intersection()` method to find common interests.\n",
    "\n",
    "**Set Methods:**\n",
    "- `add()`: Add an element to the set.\n",
    "- `remove()`: Remove an element from the set (raises an error if not present).\n",
    "- `discard()`: Remove an element from the set (no error if not present).\n",
    "- `pop()`: Remove and return an arbitrary element from the set.\n",
    "- `union()`: Return a new set containing all elements from both sets.\n",
    "- `intersection()`: Return a new set containing common elements from both sets.\n",
    "\n",
    "**4. Dictionaries: Customer Profiles**\n",
    "Problem Statement: Create and access customer profiles using dictionaries, an associative data structure.\n",
    "\n",
    "**Example Code:**"
   ]
  },
  {
   "cell_type": "code",
   "execution_count": 15,
   "id": "2db422a2",
   "metadata": {},
   "outputs": [
    {
     "name": "stdout",
     "output_type": "stream",
     "text": [
      "Alice is 30 years old and lives in New York.\n"
     ]
    }
   ],
   "source": [
    "# Create customer profiles using dictionaries\n",
    "customer1 = {\n",
    "    \"name\": \"Alice\",\n",
    "    \"age\": 30,\n",
    "    \"location\": \"New York\"\n",
    "}\n",
    "customer2 = {\n",
    "    \"name\": \"Bob\",\n",
    "    \"age\": 25,\n",
    "    \"location\": \"Los Angeles\"\n",
    "}\n",
    "\n",
    "# Access and display customer information\n",
    "print(f\"{customer1['name']} is {customer1['age']} years old and lives in {customer1['location']}.\")"
   ]
  },
  {
   "cell_type": "code",
   "execution_count": 17,
   "id": "dfa651a3",
   "metadata": {},
   "outputs": [],
   "source": [
    "customer1['location'] = [customer1['location'], 'California']"
   ]
  },
  {
   "cell_type": "code",
   "execution_count": 18,
   "id": "187fa0c6",
   "metadata": {},
   "outputs": [
    {
     "data": {
      "text/plain": [
       "{'name': 'Alice', 'age': 30, 'location': ['New York', 'California']}"
      ]
     },
     "execution_count": 18,
     "metadata": {},
     "output_type": "execute_result"
    }
   ],
   "source": [
    "customer1"
   ]
  },
  {
   "cell_type": "code",
   "execution_count": 19,
   "id": "501023c8",
   "metadata": {},
   "outputs": [],
   "source": [
    "customer1['contact'] = 74892367"
   ]
  },
  {
   "cell_type": "code",
   "execution_count": 20,
   "id": "d5c7638c",
   "metadata": {},
   "outputs": [
    {
     "data": {
      "text/plain": [
       "{'name': 'Alice',\n",
       " 'age': 30,\n",
       " 'location': ['New York', 'California'],\n",
       " 'contact': 74892367}"
      ]
     },
     "execution_count": 20,
     "metadata": {},
     "output_type": "execute_result"
    }
   ],
   "source": [
    "customer1"
   ]
  },
  {
   "cell_type": "code",
   "execution_count": 21,
   "id": "5721983d",
   "metadata": {},
   "outputs": [],
   "source": [
    "del customer1['contact']"
   ]
  },
  {
   "cell_type": "code",
   "execution_count": 22,
   "id": "de3dffa8",
   "metadata": {},
   "outputs": [
    {
     "data": {
      "text/plain": [
       "{'name': 'Alice', 'age': 30, 'location': ['New York', 'California']}"
      ]
     },
     "execution_count": 22,
     "metadata": {},
     "output_type": "execute_result"
    }
   ],
   "source": [
    "customer1"
   ]
  },
  {
   "cell_type": "code",
   "execution_count": 25,
   "id": "7091c92d",
   "metadata": {},
   "outputs": [
    {
     "data": {
      "text/plain": [
       "'California'"
      ]
     },
     "execution_count": 25,
     "metadata": {},
     "output_type": "execute_result"
    }
   ],
   "source": [
    "customer1['location'].pop()"
   ]
  },
  {
   "cell_type": "code",
   "execution_count": 26,
   "id": "3d66bf8c",
   "metadata": {},
   "outputs": [
    {
     "data": {
      "text/plain": [
       "{'name': 'Alice', 'age': 30, 'location': ['New York']}"
      ]
     },
     "execution_count": 26,
     "metadata": {},
     "output_type": "execute_result"
    }
   ],
   "source": [
    "customer1"
   ]
  },
  {
   "cell_type": "code",
   "execution_count": 27,
   "id": "2290a7f3",
   "metadata": {},
   "outputs": [
    {
     "data": {
      "text/plain": [
       "{'name': 'Bob', 'age': 25, 'location': 'Los Angeles'}"
      ]
     },
     "execution_count": 27,
     "metadata": {},
     "output_type": "execute_result"
    }
   ],
   "source": [
    "customer2"
   ]
  },
  {
   "cell_type": "code",
   "execution_count": 28,
   "id": "0c087a65",
   "metadata": {},
   "outputs": [
    {
     "data": {
      "text/plain": [
       "'New York'"
      ]
     },
     "execution_count": 28,
     "metadata": {},
     "output_type": "execute_result"
    }
   ],
   "source": [
    "customer1['location'][0]"
   ]
  },
  {
   "cell_type": "code",
   "execution_count": 29,
   "id": "ec3f8a5c",
   "metadata": {},
   "outputs": [
    {
     "name": "stdout",
     "output_type": "stream",
     "text": [
      "New York\n"
     ]
    }
   ],
   "source": [
    "print(customer1['location'][0])"
   ]
  },
  {
   "cell_type": "code",
   "execution_count": 30,
   "id": "f28587fb",
   "metadata": {},
   "outputs": [
    {
     "name": "stdout",
     "output_type": "stream",
     "text": [
      "New York\n"
     ]
    }
   ],
   "source": [
    "customer2['location'] = customer2['location'], print(customer1['location'][0])"
   ]
  },
  {
   "cell_type": "code",
   "execution_count": 31,
   "id": "2e556d3f",
   "metadata": {},
   "outputs": [
    {
     "data": {
      "text/plain": [
       "{'name': 'Bob', 'age': 25, 'location': ('Los Angeles', None)}"
      ]
     },
     "execution_count": 31,
     "metadata": {},
     "output_type": "execute_result"
    }
   ],
   "source": [
    "customer2"
   ]
  },
  {
   "cell_type": "code",
   "execution_count": 32,
   "id": "78c37558",
   "metadata": {},
   "outputs": [],
   "source": [
    "customer2['location'] = customer2['location'], customer1['location'][0]"
   ]
  },
  {
   "cell_type": "code",
   "execution_count": 33,
   "id": "45e106b1",
   "metadata": {},
   "outputs": [
    {
     "data": {
      "text/plain": [
       "{'name': 'Bob', 'age': 25, 'location': (('Los Angeles', None), 'New York')}"
      ]
     },
     "execution_count": 33,
     "metadata": {},
     "output_type": "execute_result"
    }
   ],
   "source": [
    "customer2"
   ]
  },
  {
   "cell_type": "markdown",
   "id": "8044cd4f",
   "metadata": {},
   "source": [
    "**Explanation:**\n",
    "Dictionaries store key-value pairs and allow efficient data retrieval. In this example, we've created customer profiles as dictionaries and accessed their information.\n",
    "\n",
    "**Dictionary Methods:**\n",
    "- `keys()`: Return a list of all keys in the dictionary.\n",
    "- `values()`: Return a list of all values in the dictionary.\n",
    "- `items()`: Return a list of all key-value pairs in the dictionary.\n",
    "- `get()`: Return the value for a specified key.\n",
    "- `update()`: Update the dictionary with key-value pairs from another dictionary.\n",
    "- `pop()`: Remove and return a value for a specified key."
   ]
  },
  {
   "cell_type": "markdown",
   "id": "eb6fe73e",
   "metadata": {},
   "source": [
    "## Conditional Constructs for Decision-Making\n",
    "\n",
    "**Introduction:**\n",
    "In the dynamic world of e-commerce, decision-making is paramount. This section delves into conditional constructs, which empower us to make intricate decisions based on data. We'll cover various conditional scenarios, such as single decisions, multi-tiered choices, and complex conditions, all through the lens of our retail industry context.\n",
    "\n",
    "**1. Single Decision Using `if` Statement: Customer Age Verification**\n",
    "\n",
    "Verify a customer's age to determine eligibility for certain products. The `if` statement allows us to make a single decision based on a condition.\n",
    "\n",
    "**Example Code:**"
   ]
  },
  {
   "cell_type": "code",
   "execution_count": 34,
   "id": "4851b00b",
   "metadata": {},
   "outputs": [
    {
     "name": "stdout",
     "output_type": "stream",
     "text": [
      "Customer is eligible to purchase age-restricted products.\n"
     ]
    }
   ],
   "source": [
    "# Sample customer age\n",
    "customer_age = 18\n",
    "\n",
    "# Age verification\n",
    "if customer_age >= 18:\n",
    "    print(\"Customer is eligible to purchase age-restricted products.\")"
   ]
  },
  {
   "cell_type": "markdown",
   "id": "cf090766",
   "metadata": {},
   "source": [
    "**Explanation:**\n",
    "The `if` statement evaluates a condition (age >= 18) and executes the indented code block if the condition is `True`. In this case, we verify if a customer is eligible to purchase age-restricted products based on their age.\n",
    "\n",
    "**2. Dual Decision Using `if-else` Construct: Stock Availability and Price Check**\n",
    "\n",
    "Determine whether a product is in stock and if the customer can afford it. The `if-else` construct facilitates two possible outcomes.\n",
    "\n",
    "**Example Code:**"
   ]
  },
  {
   "cell_type": "code",
   "execution_count": 9,
   "id": "041c82ac",
   "metadata": {},
   "outputs": [
    {
     "name": "stdout",
     "output_type": "stream",
     "text": [
      "Laptop is in stock and affordable.\n"
     ]
    }
   ],
   "source": [
    "# Sample stock availability and customer's balance\n",
    "in_stock_laptop = True\n",
    "customer_balance = 950.00\n",
    "\n",
    "# Stock availability and affordability check\n",
    "if in_stock_laptop:\n",
    "    if customer_balance >= product_price_laptop:\n",
    "        print(\"Laptop is in stock and affordable.\")\n",
    "    else:\n",
    "        print(\"Laptop is in stock, but not affordable.\")\n",
    "else:\n",
    "    print(\"Laptop is out of stock.\")"
   ]
  },
  {
   "cell_type": "markdown",
   "id": "e8cab856",
   "metadata": {},
   "source": [
    "**Explanation:**\n",
    "The `if-else` construct handles two possible scenarios: the laptop is in stock or out of stock. Nested within the in-stock scenario, we further assess if the customer can afford the laptop based on their balance.\n",
    "\n"
   ]
  },
  {
   "cell_type": "markdown",
   "id": "3fe08c30",
   "metadata": {},
   "source": [
    "**Understanding Indentation in Python**\n",
    "\n",
    "In Python, indentation is not just a matter of style; it is a fundamental aspect of the language's syntax. Indentation is used to define code blocks, such as those within conditional statements, loops, functions, and classes. Proper indentation is essential for code readability and to indicate which statements are grouped together.\n",
    "\n",
    "**Indentation Rules:**\n",
    "1. Use spaces (typically four spaces) or tabs for indentation. Choose one and be consistent throughout your code.\n",
    "2. Indentation defines the hierarchy of code blocks. Statements at the same level of indentation are considered part of the same block.\n",
    "3. Nested blocks are indented further to the right than their parent block.\n",
    "\n",
    "**Example: Nested `if-else` Statements**\n",
    "Consider an example where we have a nested `if-else` statement to determine product eligibility based on both age and location:\n"
   ]
  },
  {
   "cell_type": "code",
   "execution_count": 36,
   "id": "0d7246a9",
   "metadata": {},
   "outputs": [
    {
     "name": "stdout",
     "output_type": "stream",
     "text": [
      "Welcome to our store!\n"
     ]
    }
   ],
   "source": [
    "customer_age = 25\n",
    "customer_location = \"New York\"\n",
    "\n",
    "if customer_location == \"New York\":\n",
    "    if customer_age < 18:\n",
    "        print(\"Welcome, young shopper!\")\n",
    "    else:\n",
    "        print(\"Welcome to our store!\")\n",
    "else:\n",
    "    print(\"Hello and thank you for visiting us!\")"
   ]
  },
  {
   "cell_type": "markdown",
   "id": "1efd4954",
   "metadata": {},
   "source": [
    "In this example:\n",
    "- The outer `if` statement checks the customer's location.\n",
    "- The inner `if-else` statement checks the customer's age.\n",
    "- Proper indentation visually separates each code block."
   ]
  },
  {
   "cell_type": "markdown",
   "id": "6b1dffec",
   "metadata": {},
   "source": [
    "**Indentation Errors:**\n",
    "Incorrect indentation can lead to syntax errors. For instance, if the inner `if` statement in the above example is not indented properly, the code would be incorrect:\n"
   ]
  },
  {
   "cell_type": "code",
   "execution_count": 39,
   "id": "4f483171",
   "metadata": {},
   "outputs": [
    {
     "name": "stdout",
     "output_type": "stream",
     "text": [
      "Welcome to our store!\n"
     ]
    }
   ],
   "source": [
    "if customer_location == \"New York\":\n",
    "    if customer_age < 18:\n",
    "        print(\"Welcome, young shopper!\")\n",
    "    else:\n",
    "        print(\"Welcome to our store!\")"
   ]
  },
  {
   "cell_type": "markdown",
   "id": "01980d8a",
   "metadata": {},
   "source": [
    "This would raise an \"IndentationError\" because Python expects the inner block to be indented.\n",
    "\n",
    "**Best Practices:**\n",
    "1. Consistency: Maintain consistent indentation throughout your codebase.\n",
    "2. Readability: Use clear and meaningful indentation to enhance code readability.\n",
    "3. Code Editors: Most modern code editors automatically handle indentation. Configure your editor to follow the recommended style."
   ]
  },
  {
   "cell_type": "markdown",
   "id": "cedd5650",
   "metadata": {},
   "source": [
    "**3. Multi-Tiered Decisions Using `if-elif-else` Ladder: Product Category Discounts**\n",
    "\n",
    "Apply different discounts based on product categories. The `if-elif-else` ladder accommodates multiple decision branches.\n",
    "\n",
    "**Example Code:**"
   ]
  },
  {
   "cell_type": "code",
   "execution_count": 15,
   "id": "7fc97b99",
   "metadata": {},
   "outputs": [],
   "source": [
    "# Sample product category and price\n",
    "product_category = \"Electronics\"\n",
    "product_price = 699.99\n",
    "\n",
    "# Apply discounts based on product category\n",
    "if product_category == \"Electronics\":\n",
    "    discount = 0.10  # 10% discount for electronics\n",
    "elif product_category == \"Clothing\":\n",
    "    discount = 0.20  # 20% discount for clothing\n",
    "else:\n",
    "    discount = 0.05  # 5% discount for other categories\n",
    "\n",
    "final_price = product_price - (product_price * discount)"
   ]
  },
  {
   "cell_type": "markdown",
   "id": "1f24e01d",
   "metadata": {},
   "source": [
    "**Explanation:**\n",
    "The `if-elif-else` ladder allows us to choose from multiple branches. In this case, we apply different discounts based on the product category and calculate the final price accordingly.\n",
    "\n",
    "**4. Complex Conditions Using Logical and Conditional Operators: Eligibility Check**\n",
    "\n",
    "Determine if a customer is eligible for a special promotion based on age, previous purchases, and location. Logical and conditional operators enable complex evaluations.\n",
    "\n",
    "**Example Code:**"
   ]
  },
  {
   "cell_type": "code",
   "execution_count": 16,
   "id": "b4f629ed",
   "metadata": {},
   "outputs": [
    {
     "name": "stdout",
     "output_type": "stream",
     "text": [
      "Customer is eligible for the special promotion.\n"
     ]
    }
   ],
   "source": [
    "# Sample customer data\n",
    "customer_age = 25\n",
    "previous_purchases = 5\n",
    "customer_location = \"New York\"\n",
    "\n",
    "# Check eligibility for special promotion\n",
    "if (customer_age >= 18 and previous_purchases >= 3) or customer_location == \"New York\":\n",
    "    print(\"Customer is eligible for the special promotion.\")\n",
    "else:\n",
    "    print(\"Customer is not eligible for the special promotion.\")"
   ]
  },
  {
   "cell_type": "markdown",
   "id": "677c64b8",
   "metadata": {},
   "source": [
    "**Explanation:**\n",
    "We use logical (`and`, `or`) and conditional (`>=`, `==`) operators to evaluate complex conditions. The example checks if a customer is eligible for a special promotion based on age, previous purchases, and location."
   ]
  },
  {
   "cell_type": "markdown",
   "id": "5789e930",
   "metadata": {},
   "source": [
    "**Exercises:**\n",
    "1. Implement a shipping fee calculation based on order quantity and total price using conditional constructs.\n",
    "2. Determine product availability based on stock and customer location, offering alternatives if a product is out of stock.\n",
    "3. Create a discount system that combines category-based discounts with special offers for eligible customers.\n",
    "4. Build a customer loyalty program using logical operators to determine membership tiers."
   ]
  },
  {
   "cell_type": "code",
   "execution_count": 40,
   "id": "8c4d409c",
   "metadata": {},
   "outputs": [
    {
     "name": "stdout",
     "output_type": "stream",
     "text": [
      "enter a number: 100\n"
     ]
    }
   ],
   "source": [
    "num = input('enter a number: ')"
   ]
  },
  {
   "cell_type": "code",
   "execution_count": 41,
   "id": "3e514f6a",
   "metadata": {},
   "outputs": [
    {
     "data": {
      "text/plain": [
       "str"
      ]
     },
     "execution_count": 41,
     "metadata": {},
     "output_type": "execute_result"
    }
   ],
   "source": [
    "type(num)"
   ]
  },
  {
   "cell_type": "code",
   "execution_count": 42,
   "id": "e860e168",
   "metadata": {},
   "outputs": [
    {
     "data": {
      "text/plain": [
       "100"
      ]
     },
     "execution_count": 42,
     "metadata": {},
     "output_type": "execute_result"
    }
   ],
   "source": [
    "int(num)"
   ]
  },
  {
   "cell_type": "code",
   "execution_count": 46,
   "id": "9f14ef6e",
   "metadata": {},
   "outputs": [
    {
     "name": "stdout",
     "output_type": "stream",
     "text": [
      "Some purchase has been done previously (yes/no): yes\n",
      "Give product category (electronics/food/fashoin): food\n",
      "Price of the product: 100\n",
      "Discounted price for food products: 85.0\n"
     ]
    }
   ],
   "source": [
    "previous_purchase = input('Some purchase has been done previously (yes/no): ')\n",
    "category = input('Give product category (electronics/food/fashoin): ')\n",
    "price = int(input('Price of the product: '))\n",
    "# 10% for food\n",
    "# 15% for electronics\n",
    "# 20% for fashion\n",
    "# Extra 5 % if there's past purchase!\n",
    "\n",
    "if previous_purchase == 'yes':\n",
    "    extra_disc = 0.05\n",
    "else:\n",
    "    extra_disc = 0\n",
    "    \n",
    "if category == 'electronics':\n",
    "    discounted_price = price - price * (0.15+extra_disc)\n",
    "elif category == 'food':\n",
    "    discounted_price = price - price * (0.10+extra_disc)\n",
    "elif category == 'fashion':\n",
    "    discounted_price = price - price * (0.20+extra_disc)\n",
    "    \n",
    "print('Discounted price for {} products: {}'.format(category, discounted_price))"
   ]
  },
  {
   "cell_type": "code",
   "execution_count": null,
   "id": "0aa9400d",
   "metadata": {},
   "outputs": [],
   "source": [
    "discount += 0.15\n",
    "discount = discount + 0.15"
   ]
  },
  {
   "cell_type": "code",
   "execution_count": 49,
   "id": "060422a2",
   "metadata": {},
   "outputs": [
    {
     "name": "stdout",
     "output_type": "stream",
     "text": [
      "Some purchase has been done previously (yes/no): yes\n",
      "Give product category (electronics/food/fashoin): food\n",
      "Price of the product: 100\n",
      "Discounted price for food products: 85.0\n"
     ]
    }
   ],
   "source": [
    "previous_purchase = input('Some purchase has been done previously (yes/no): ')\n",
    "category = input('Give product category (electronics/food/fashoin): ')\n",
    "price = int(input('Price of the product: '))\n",
    "# 10% for food\n",
    "# 15% for electronics\n",
    "# 20% for fashion\n",
    "# Extra 5 % if there's past purchase!\n",
    "\n",
    "if previous_purchase == 'yes':\n",
    "    discount = 0.05\n",
    "else:\n",
    "    discount = 0\n",
    "    \n",
    "if category == 'electronics':\n",
    "    discount += 0.15\n",
    "elif category == 'food':\n",
    "    discount += 0.10\n",
    "elif category == 'fashion':\n",
    "    discount += 0.20\n",
    "    \n",
    "print('Discounted price for {} products: {}'.format(category, price*(1-discount)))"
   ]
  },
  {
   "cell_type": "markdown",
   "id": "6006acc0",
   "metadata": {},
   "source": [
    "## Harnessing the Power of Looping Constructs\n",
    "\n",
    "**Introduction:**\n",
    "In the dynamic realm of e-commerce, efficiency is paramount. This section dives into the world of looping constructs, enabling us to streamline processes, iterate through data, and optimize our retail system's functionality.\n",
    "\n",
    "**1. Iterating with `for` Loops: Displaying Product Names**\n",
    "Problem Statement: Display the names of multiple products using a `for` loop to iterate through a list of products.\n",
    "\n",
    "**Example Code:**"
   ]
  },
  {
   "cell_type": "code",
   "execution_count": 50,
   "id": "e2373aab",
   "metadata": {},
   "outputs": [
    {
     "name": "stdout",
     "output_type": "stream",
     "text": [
      "Product: Laptop\n",
      "Product: Phone\n",
      "Product: Tablet\n",
      "Product: Headphones\n"
     ]
    }
   ],
   "source": [
    "product_names = [\"Laptop\", \"Phone\", \"Tablet\", \"Headphones\"]\n",
    "\n",
    "# Display product names using a for loop\n",
    "for product in product_names:\n",
    "    print(f\"Product: {product}\")"
   ]
  },
  {
   "cell_type": "markdown",
   "id": "93163884",
   "metadata": {},
   "source": [
    "**Explanation:**\n",
    "A `for` loop is used to iterate through a sequence (here, a list of product names). In each iteration, the value of the loop variable (`product`) changes to the next item in the sequence."
   ]
  },
  {
   "cell_type": "markdown",
   "id": "d3dd9368",
   "metadata": {},
   "source": [
    "**2. Nesting `for` Loops: Displaying Customer-Cart Product Combinations**\n",
    "Problem Statement: Display all possible product combinations between customers and their carts using nested `for` loops.\n",
    "\n",
    "**Example Code:**"
   ]
  },
  {
   "cell_type": "code",
   "execution_count": 18,
   "id": "f4ec4815",
   "metadata": {},
   "outputs": [
    {
     "name": "stdout",
     "output_type": "stream",
     "text": [
      "Alice's cart: Laptop\n",
      "Alice's cart: Phone\n",
      "Bob's cart: Laptop\n",
      "Bob's cart: Phone\n"
     ]
    }
   ],
   "source": [
    "# Sample customer names and cart items\n",
    "customer_names = [\"Alice\", \"Bob\"]\n",
    "cart_items = [\"Laptop\", \"Phone\"]\n",
    "\n",
    "# Display customer-cart product combinations using nested for loops\n",
    "for customer in customer_names:\n",
    "    for item in cart_items:\n",
    "        print(f\"{customer}'s cart: {item}\")"
   ]
  },
  {
   "cell_type": "markdown",
   "id": "c9336263",
   "metadata": {},
   "source": [
    "**Explanation:**\n",
    "Nested `for` loops allow us to iterate through multiple sequences. The outer loop iterates through customers, and the inner loop iterates through cart items, generating all possible product combinations.\n",
    "\n",
    "**3. Enhanced Customer Interaction with `while` Loops: Product Search**\n",
    "\n",
    "Assist customers in finding a specific product by repeatedly searching through product listings using a `while` loop.\n",
    "\n",
    "**Example Code:**"
   ]
  },
  {
   "cell_type": "code",
   "execution_count": 23,
   "id": "918654eb",
   "metadata": {},
   "outputs": [
    {
     "name": "stdout",
     "output_type": "stream",
     "text": [
      "Enter the product you're looking for: shirt\n",
      "Sorry, 'shirt' is not available. Please try again.\n",
      "Enter the product you're looking for: shoes\n",
      "Sorry, 'shoes' is not available. Please try again.\n",
      "Enter the product you're looking for: laptop\n",
      "Sorry, 'laptop' is not available. Please try again.\n",
      "Enter the product you're looking for: Laptop\n",
      "Great! 'Laptop' is available in our store.\n"
     ]
    }
   ],
   "source": [
    "# Sample list of available products\n",
    "available_products = [\"Laptop\", \"Phone\", \"Tablet\", \"Headphones\", \"Smartwatch\"]\n",
    "\n",
    "# Assist customers in finding a specific product using a while loop\n",
    "desired_product = input(\"Enter the product you're looking for: \")\n",
    "\n",
    "while desired_product not in available_products:\n",
    "    print(f\"Sorry, '{desired_product}' is not available. Please try again.\")\n",
    "    desired_product = input(\"Enter the product you're looking for: \")\n",
    "\n",
    "print(f\"Great! '{desired_product}' is available in our store.\")"
   ]
  },
  {
   "cell_type": "markdown",
   "id": "52bb7738",
   "metadata": {},
   "source": [
    "**Explanation:**\n",
    "In this example, we use a `while` loop to assist customers in finding a specific product. The loop continues until the desired product is found in the list of available products.\n",
    "\n",
    "**4. Guiding Customer Choices with Nested `while` Loops: Product Selection**\n",
    "\n",
    "Help customers build their ideal product bundle by guiding them through a selection process using nested `while` loops.\n",
    "\n",
    "**Example Code:**"
   ]
  },
  {
   "cell_type": "code",
   "execution_count": 1,
   "id": "95d5c332",
   "metadata": {},
   "outputs": [
    {
     "name": "stdout",
     "output_type": "stream",
     "text": [
      "Available Product Categories:\n",
      "- Electronics\n",
      "- Clothing\n",
      "- Home\n",
      "Select a category or enter 'done' to finish: Homw\n",
      "Invalid category. Please select a valid category.\n",
      "Select a category or enter 'done' to finish: Home\n",
      "Available Home Products:\n",
      "- Chair\n",
      "- Table\n",
      "- Lamp\n",
      "Select a product: Table\n",
      "'Table' added to your bundle.\n",
      "Available Product Categories:\n",
      "- Electronics\n",
      "- Clothing\n",
      "- Home\n",
      "Select a category or enter 'done' to finish: done\n",
      "Your product bundle:\n",
      "- Table\n"
     ]
    }
   ],
   "source": [
    "# Sample product categories and items\n",
    "product_categories = {\n",
    "    \"Electronics\": [\"Laptop\", \"Phone\", \"Tablet\", \"Headphones\", \"Smartwatch\"],\n",
    "    \"Clothing\": [\"Shirt\", \"Jeans\", \"Sweater\", \"Dress\"],\n",
    "    \"Home\": [\"Chair\", \"Table\", \"Lamp\"]\n",
    "}\n",
    "\n",
    "# Assist customers in building a product bundle using nested while loops\n",
    "selected_products = []\n",
    "\n",
    "while True:\n",
    "    print(\"Available Product Categories:\")\n",
    "    for category in product_categories:\n",
    "        print(\"- \" + category)\n",
    "\n",
    "    selected_category = input(\"Select a category or enter 'done' to finish: \")\n",
    "\n",
    "    if selected_category == \"done\":\n",
    "        break\n",
    "\n",
    "    while selected_category not in product_categories:\n",
    "        print(\"Invalid category. Please select a valid category.\")\n",
    "        selected_category = input(\"Select a category or enter 'done' to finish: \")\n",
    "        if selected_category == \"done\":\n",
    "            break\n",
    "\n",
    "    print(f\"Available {selected_category} Products:\")\n",
    "    for product in product_categories[selected_category]:\n",
    "        print(\"- \" + product)\n",
    "\n",
    "    selected_product = input(\"Select a product: \")\n",
    "    if selected_product in product_categories[selected_category]:\n",
    "        selected_products.append(selected_product)\n",
    "        print(f\"'{selected_product}' added to your bundle.\")\n",
    "    else:\n",
    "        print(\"Invalid product selection. Please choose a valid product.\")\n",
    "\n",
    "print(\"Your product bundle:\")\n",
    "for product in selected_products:\n",
    "    print(\"- \" + product)"
   ]
  },
  {
   "cell_type": "markdown",
   "id": "7bbd1f53",
   "metadata": {},
   "source": [
    "## Functions in Python\n",
    "\n",
    "**Introduction:**\n",
    "In the ever-evolving landscape of e-commerce, efficient and reusable code is essential. This section delves into functions, the building blocks that allow us to encapsulate logic, improve code organization, and elevate our retail system's functionality.\n",
    "\n",
    "**1. Functions Without Arguments: Greeting Customers**\n",
    "\n",
    "Create a function to greet customers and provide a warm welcome.\n",
    "\n",
    "**Example Code:**"
   ]
  },
  {
   "cell_type": "code",
   "execution_count": 56,
   "id": "33fd2bee",
   "metadata": {},
   "outputs": [],
   "source": [
    "# Define a function to greet customers\n",
    "def greet():\n",
    "    return (\"Welcome to our online store! How can we assist you today?\")"
   ]
  },
  {
   "cell_type": "code",
   "execution_count": 57,
   "id": "0bb93eec",
   "metadata": {},
   "outputs": [
    {
     "name": "stdout",
     "output_type": "stream",
     "text": [
      "Welcome to our online store! How can we assist you today?\n"
     ]
    }
   ],
   "source": [
    "# Call the function to greet customers\n",
    "res = greet()\n",
    "print(res)"
   ]
  },
  {
   "cell_type": "markdown",
   "id": "7a9feb81",
   "metadata": {},
   "source": [
    "**Explanation:**\n",
    "Functions allow us to encapsulate a sequence of statements into a single reusable unit. In this example, we've defined a function `greet()` that prints a welcome message.\n",
    "\n",
    "**2. Functions with Multiple Arguments: Total Purchase Price**\n",
    "\n",
    "Calculate and display the total price for a customer's order using a function with multiple arguments.\n",
    "\n",
    "**Example Code:**"
   ]
  },
  {
   "cell_type": "code",
   "execution_count": 61,
   "id": "cb659961",
   "metadata": {},
   "outputs": [
    {
     "data": {
      "text/plain": [
       "'Total price: $99.98'"
      ]
     },
     "execution_count": 61,
     "metadata": {},
     "output_type": "execute_result"
    }
   ],
   "source": [
    "# Define a function to calculate total price\n",
    "def calculate_total_price(product_price, quantity):\n",
    "    total = product_price * quantity\n",
    "    return (f\"Total price: ${total:.2f}\")\n",
    "\n",
    "# Call the function to calculate total price\n",
    "calculate_total_price(49.99, 2)"
   ]
  },
  {
   "cell_type": "markdown",
   "id": "4236ff00",
   "metadata": {},
   "source": [
    "**Explanation:**\n",
    "Functions can accept multiple arguments that provide necessary information. In this example, the function `calculate_total_price()` takes product price and quantity as arguments to compute the total price.\n",
    "\n",
    "**3. Functions with Default Arguments: Shipping Estimate**\n",
    "\n",
    "Provide a shipping estimate based on the shipping speed using a function with default arguments.\n",
    "\n",
    "**Example Code:**"
   ]
  },
  {
   "cell_type": "code",
   "execution_count": 63,
   "id": "250e3e7c",
   "metadata": {},
   "outputs": [],
   "source": [
    "# Define a function to provide shipping estimate\n",
    "def provide_shipping_estimate(weight, speed=\"Standard\"):\n",
    "    if speed == \"Standard\":\n",
    "        shipping_days = 5\n",
    "    elif speed == \"Express\":\n",
    "        shipping_days = 2\n",
    "    return (f\"Estimated shipping time for {weight}kg package ({speed}): {shipping_days} days\")"
   ]
  },
  {
   "cell_type": "code",
   "execution_count": 65,
   "id": "cce75989",
   "metadata": {},
   "outputs": [
    {
     "data": {
      "text/plain": [
       "'Estimated shipping time for 2.5kg package (Express): 2 days'"
      ]
     },
     "execution_count": 65,
     "metadata": {},
     "output_type": "execute_result"
    }
   ],
   "source": [
    "# Call the function to provide shipping estimate\n",
    "provide_shipping_estimate(2.5)\n",
    "provide_shipping_estimate(2.5, \"Express\")"
   ]
  },
  {
   "cell_type": "code",
   "execution_count": 66,
   "id": "9523f048",
   "metadata": {},
   "outputs": [],
   "source": [
    "# Define a function to provide shipping estimate\n",
    "def provide_shipping_estimate(weight=5, speed=\"Standard\"):\n",
    "    if speed == \"Standard\":\n",
    "        shipping_days = 5\n",
    "    elif speed == \"Express\":\n",
    "        shipping_days = 2\n",
    "    return (f\"Estimated shipping time for {weight}kg package ({speed}): {shipping_days} days\")"
   ]
  },
  {
   "cell_type": "code",
   "execution_count": 67,
   "id": "c3303728",
   "metadata": {},
   "outputs": [
    {
     "data": {
      "text/plain": [
       "'Estimated shipping time for 5kg package (Express): 2 days'"
      ]
     },
     "execution_count": 67,
     "metadata": {},
     "output_type": "execute_result"
    }
   ],
   "source": [
    "# Call the function to provide shipping estimate\n",
    "provide_shipping_estimate(speed=\"Express\")"
   ]
  },
  {
   "cell_type": "code",
   "execution_count": 78,
   "id": "55c841cc",
   "metadata": {},
   "outputs": [],
   "source": [
    "import time"
   ]
  },
  {
   "cell_type": "code",
   "execution_count": 92,
   "id": "71baa94b",
   "metadata": {},
   "outputs": [],
   "source": [
    "def get_all_products(*products):\n",
    "#     print(type(products))\n",
    "    for product in products:\n",
    "        time.sleep(2)\n",
    "        print (product)"
   ]
  },
  {
   "cell_type": "code",
   "execution_count": 94,
   "id": "afdd97de",
   "metadata": {},
   "outputs": [
    {
     "name": "stdout",
     "output_type": "stream",
     "text": [
      "milk\n",
      "bread\n",
      "toast\n",
      "eggs\n"
     ]
    }
   ],
   "source": [
    "res = get_all_products('milk', 'bread', 'toast', 'eggs')"
   ]
  },
  {
   "cell_type": "code",
   "execution_count": 97,
   "id": "a1997f3d",
   "metadata": {},
   "outputs": [
    {
     "name": "stdout",
     "output_type": "stream",
     "text": [
      "None\n"
     ]
    }
   ],
   "source": [
    "print(res)"
   ]
  },
  {
   "cell_type": "code",
   "execution_count": 91,
   "id": "7e23267e",
   "metadata": {},
   "outputs": [
    {
     "name": "stdout",
     "output_type": "stream",
     "text": [
      "milk\n",
      "bread\n",
      "toast\n",
      "eggs\n"
     ]
    },
    {
     "ename": "TypeError",
     "evalue": "'NoneType' object is not iterable",
     "output_type": "error",
     "traceback": [
      "\u001b[0;31m---------------------------------------------------------------------------\u001b[0m",
      "\u001b[0;31mTypeError\u001b[0m                                 Traceback (most recent call last)",
      "Input \u001b[0;32mIn [91]\u001b[0m, in \u001b[0;36m<cell line: 1>\u001b[0;34m()\u001b[0m\n\u001b[0;32m----> 1\u001b[0m \u001b[38;5;28;01mfor\u001b[39;00m product \u001b[38;5;129;01min\u001b[39;00m get_all_products(\u001b[38;5;124m'\u001b[39m\u001b[38;5;124mmilk\u001b[39m\u001b[38;5;124m'\u001b[39m, \u001b[38;5;124m'\u001b[39m\u001b[38;5;124mbread\u001b[39m\u001b[38;5;124m'\u001b[39m, \u001b[38;5;124m'\u001b[39m\u001b[38;5;124mtoast\u001b[39m\u001b[38;5;124m'\u001b[39m, \u001b[38;5;124m'\u001b[39m\u001b[38;5;124meggs\u001b[39m\u001b[38;5;124m'\u001b[39m):\n\u001b[1;32m      2\u001b[0m     \u001b[38;5;28mprint\u001b[39m(product)\n",
      "\u001b[0;31mTypeError\u001b[0m: 'NoneType' object is not iterable"
     ]
    }
   ],
   "source": [
    "for product in get_all_products('milk', 'bread', 'toast', 'eggs'):\n",
    "    print(product)"
   ]
  },
  {
   "cell_type": "code",
   "execution_count": 106,
   "id": "1501633d",
   "metadata": {},
   "outputs": [],
   "source": [
    "li1 = [1,2,3,4,5,6,7,8,7,5,6,4,3,7,8,9]\n",
    "li2 = li[::-1]\n",
    "def square(x):\n",
    "    return x**2"
   ]
  },
  {
   "cell_type": "code",
   "execution_count": 107,
   "id": "f4666b57",
   "metadata": {},
   "outputs": [
    {
     "data": {
      "text/plain": [
       "[1, 4, 9, 16, 25, 36, 49, 64, 49, 25, 36, 16, 9, 49, 64, 81]"
      ]
     },
     "execution_count": 107,
     "metadata": {},
     "output_type": "execute_result"
    }
   ],
   "source": [
    "list(map(square, li))"
   ]
  },
  {
   "cell_type": "code",
   "execution_count": 108,
   "id": "be9da887",
   "metadata": {},
   "outputs": [],
   "source": [
    "# Lambda Function/ Anonymous Function\n",
    "# lambda arg: return"
   ]
  },
  {
   "cell_type": "code",
   "execution_count": 109,
   "id": "3c6e21d4",
   "metadata": {},
   "outputs": [
    {
     "data": {
      "text/plain": [
       "[1, 2, 3, 4, 5, 6, 7, 8, 7, 5, 6, 4, 3, 7, 8, 9]"
      ]
     },
     "execution_count": 109,
     "metadata": {},
     "output_type": "execute_result"
    }
   ],
   "source": [
    "li1"
   ]
  },
  {
   "cell_type": "code",
   "execution_count": 110,
   "id": "534f5f05",
   "metadata": {},
   "outputs": [
    {
     "data": {
      "text/plain": [
       "[9, 8, 7, 3, 4, 6, 5, 7, 8, 7, 6, 5, 4, 3, 2, 1]"
      ]
     },
     "execution_count": 110,
     "metadata": {},
     "output_type": "execute_result"
    }
   ],
   "source": [
    "li2"
   ]
  },
  {
   "cell_type": "code",
   "execution_count": 111,
   "id": "ea729651",
   "metadata": {},
   "outputs": [
    {
     "data": {
      "text/plain": [
       "[10, 10, 10, 7, 9, 12, 12, 15, 15, 12, 12, 9, 7, 10, 10, 10]"
      ]
     },
     "execution_count": 111,
     "metadata": {},
     "output_type": "execute_result"
    }
   ],
   "source": [
    "list(map(lambda x1, x2: x1+x2, li1,li2))"
   ]
  },
  {
   "cell_type": "code",
   "execution_count": 113,
   "id": "9aff2c04",
   "metadata": {},
   "outputs": [
    {
     "data": {
      "text/plain": [
       "[2, 4, 6, 8, 6, 4, 8]"
      ]
     },
     "execution_count": 113,
     "metadata": {},
     "output_type": "execute_result"
    }
   ],
   "source": [
    "list(filter(lambda x: x%2 == 0, li1))"
   ]
  },
  {
   "cell_type": "code",
   "execution_count": 114,
   "id": "4ec0fac6",
   "metadata": {},
   "outputs": [
    {
     "data": {
      "text/plain": [
       "[1, 0, 1, 0, 1, 0, 1, 0, 1, 1, 0, 0, 1, 1, 0, 1]"
      ]
     },
     "execution_count": 114,
     "metadata": {},
     "output_type": "execute_result"
    }
   ],
   "source": [
    "list(map(lambda x: 0 if x%2==0 else 1, li))"
   ]
  },
  {
   "cell_type": "markdown",
   "id": "203c67d3",
   "metadata": {},
   "source": [
    "**Explanation:**\n",
    "Functions can have default values for some arguments, making them optional. In this example, the function `provide_shipping_estimate()` has a default speed of \"Standard,\" but the speed can also be provided explicitly.\n",
    "\n",
    "**Use Cases: Passing Arguments by Position and Value:**\n",
    "- Passing Arguments by Position: `provide_shipping_estimate(1.5, \"Express\")`\n",
    "- Passing Arguments by Value: `provide_shipping_estimate(weight=1.5, speed=\"Express\")`\n",
    "\n",
    "**4. Functions with Multiple Arguments: Discounts and Taxes**\n",
    "\n",
    "Calculate and display the final price for an order, considering discounts and taxes using a function with multiple arguments.\n",
    "\n",
    "**Example Code:**"
   ]
  },
  {
   "cell_type": "code",
   "execution_count": 38,
   "id": "698a0615",
   "metadata": {},
   "outputs": [
    {
     "data": {
      "text/plain": [
       "'Final price: $97.20'"
      ]
     },
     "execution_count": 38,
     "metadata": {},
     "output_type": "execute_result"
    }
   ],
   "source": [
    "# Define a function to calculate final price\n",
    "def calculate_final_price(original_price, discount, tax_rate):\n",
    "    discounted_price = original_price - (original_price * discount)\n",
    "    final_price = discounted_price + (discounted_price * tax_rate)\n",
    "    return (f\"Final price: ${final_price:.2f}\")\n",
    "\n",
    "# Call the function to calculate final price\n",
    "calculate_final_price(100, 0.1, 0.08)"
   ]
  },
  {
   "cell_type": "markdown",
   "id": "fdd6b583",
   "metadata": {},
   "source": [
    "**Explanation:**\n",
    "Functions can handle complex calculations. In this example, the function `calculate_final_price()` considers discounts and taxes to compute the final price.\n"
   ]
  },
  {
   "cell_type": "markdown",
   "id": "72ae464c",
   "metadata": {},
   "source": [
    "## Exercises"
   ]
  },
  {
   "cell_type": "markdown",
   "id": "5ec839d6",
   "metadata": {},
   "source": [
    "#### Exercise 1: Customer Analysis and Segmentation\n",
    "\n",
    "```python\n",
    "# Simulated data: List of customer ages\n",
    "customer_ages = [18, 25, 32, 45, 50, 60, 70, 15, 28]\n",
    "\n",
    "# Define a function to categorize customer ages\n",
    "def categorize_age(age):\n",
    "    if age <= 19:\n",
    "        return \"Teen\"\n",
    "    elif age <= 59:\n",
    "        return \"Adult\"\n",
    "    else:\n",
    "        return \"Senior\"\n",
    "\n",
    "# Initialize counters for each age group\n",
    "teen_count = 0\n",
    "adult_count = 0\n",
    "senior_count = 0\n",
    "\n",
    "# Loop through customer ages and categorize them\n",
    "for age in customer_ages:\n",
    "    category = categorize_age(age)\n",
    "    if category == \"Teen\":\n",
    "        teen_count += 1\n",
    "    elif category == \"Adult\":\n",
    "        adult_count += 1\n",
    "    else:\n",
    "        senior_count += 1\n",
    "\n",
    "# Calculate average age for each group\n",
    "total_teens = sum([age for age in customer_ages if categorize_age(age) == \"Teen\"])\n",
    "average_teen_age = total_teens / teen_count\n",
    "\n",
    "total_adults = sum([age for age in customer_ages if categorize_age(age) == \"Adult\"])\n",
    "average_adult_age = total_adults / adult_count\n",
    "\n",
    "total_seniors = sum([age for age in customer_ages if categorize_age(age) == \"Senior\"])\n",
    "average_senior_age = total_seniors / senior_count\n",
    "\n",
    "# Display results\n",
    "print(\"Customer Age Analysis:\")\n",
    "print(f\"Average Teen Age: {average_teen_age:.2f}\")\n",
    "print(f\"Average Adult Age: {average_adult_age:.2f}\")\n",
    "print(f\"Average Senior Age: {average_senior_age:.2f}\")\n",
    "```\n",
    "\n",
    "**Comments:**\n",
    "- We start by simulating a list of customer ages (`customer_ages`).\n",
    "- The function `categorize_age()` takes an age as input and returns the corresponding category (\"Teen,\" \"Adult,\" or \"Senior\").\n",
    "- We initialize counters for each age group and loop through customer ages to categorize them.\n",
    "- After categorization, we calculate the average age for each group using list comprehensions and summation.\n",
    "- Finally, we display the results.\n",
    "\n",
    "---\n",
    "\n",
    "#### Exercise 2: Inventory Management**\n",
    "\n",
    "```python\n",
    "# Simulated data: Initial product inventory\n",
    "inventory = {\n",
    "    \"Laptop\": 10,\n",
    "    \"Phone\": 20,\n",
    "    \"Tablet\": 15,\n",
    "    \"Headphones\": 30\n",
    "}\n",
    "\n",
    "# Define a function to add new products to inventory\n",
    "def add_product(product_name, quantity):\n",
    "    if product_name in inventory:\n",
    "        inventory[product_name] += quantity\n",
    "    else:\n",
    "        inventory[product_name] = quantity\n",
    "\n",
    "# Define a function to update product quantities\n",
    "def update_quantity(product_name, new_quantity):\n",
    "    inventory[product_name] = new_quantity\n",
    "\n",
    "# Define a function to display current inventory status\n",
    "def display_inventory():\n",
    "    print(\"Current Inventory:\")\n",
    "    for product, quantity in inventory.items():\n",
    "        print(f\"{product}: {quantity}\")\n",
    "\n",
    "# Call functions to perform inventory management operations\n",
    "add_product(\"Mouse\", 50)\n",
    "update_quantity(\"Phone\", 15)\n",
    "display_inventory()\n",
    "```\n",
    "\n",
    "**Comments:**\n",
    "- We start with simulated initial product inventory using a dictionary (`inventory`).\n",
    "- The function `add_product()` takes a product name and quantity as input and adds the product to the inventory or updates its quantity.\n",
    "- The function `update_quantity()` updates the quantity of a product.\n",
    "- The function `display_inventory()` displays the current inventory status.\n",
    "- We call the functions to add a new product, update a product's quantity, and then display the updated inventory.\n",
    "\n",
    "---\n",
    "\n",
    "#### Exercise 3: Order Processing with Exception Handling\n",
    "\n",
    "```python\n",
    "# Simulated data: Product prices\n",
    "product_prices = {\n",
    "    \"Laptop\": 999.99,\n",
    "    \"Phone\": 499.99,\n",
    "    \"Tablet\": 299.99,\n",
    "    \"Headphones\": 89.99\n",
    "}\n",
    "\n",
    "# Define a function to process orders\n",
    "def process_order(product_name, quantity):\n",
    "    try:\n",
    "        price_per_unit = product_prices[product_name]\n",
    "        total_price = price_per_unit * quantity\n",
    "        print(f\"Total price for {quantity} {product_name}s: ${total_price:.2f}\")\n",
    "    except KeyError:\n",
    "        print(f\"Error: Product '{product_name}' not found.\")\n",
    "\n",
    "# Call the function to process orders\n",
    "process_order(\"Laptop\", 2)\n",
    "process_order(\"Mouse\", 3)\n",
    "```\n",
    "\n",
    "**Comments:**\n",
    "- We simulate product prices using a dictionary (`product_prices`).\n",
    "- The function `process_order()` takes a product name and quantity as input and calculates the total price. It uses a try-except block to handle potential errors (KeyError) when looking up the product price.\n",
    "- We call the function to process orders for a laptop and a non-existing product (\"Mouse\").\n"
   ]
  },
  {
   "cell_type": "markdown",
   "id": "6360702c",
   "metadata": {},
   "source": [
    "# Object-Oriented Programming\n",
    "\n",
    "**Introduction:**\n",
    "In the dynamic realm of e-commerce, effective code organization and modularity are paramount. This section delves into the world of Object-Oriented Programming (OOP), a powerful paradigm that enables us to model and manipulate real-world entities seamlessly within our retail system.\n",
    "\n",
    "**1. Classes and Objects: Product Representation**\n",
    "\n",
    "Create a `Product` class to represent products in our online store, complete with attributes for name, price, and quantity.\n",
    "\n",
    "**Example Code:**"
   ]
  },
  {
   "cell_type": "code",
   "execution_count": 234,
   "id": "32bb65d2",
   "metadata": {},
   "outputs": [],
   "source": [
    "class Products:\n",
    "    def __init__(self, store_name, location):\n",
    "        self.store_name = store_name\n",
    "        self.location = location\n",
    "        self.products = list()\n",
    "    def store_products(self, name, price, quantity):\n",
    "        self.products.append([name, price, quantity])\n",
    "    def get_products(self):\n",
    "        return self.products\n",
    "    def delete_product(self, name, quantity):\n",
    "        \n",
    "        for product in self.products:\n",
    "            if product[0] == name and product[2] > quantity:\n",
    "                product[2] -= quantity\n",
    "                print('{} {} deleted sucessfully'.format(quantity, name))\n",
    "                break\n",
    "        else:\n",
    "            print('Invalid Input')\n",
    "            \n",
    "                "
   ]
  },
  {
   "cell_type": "code",
   "execution_count": 235,
   "id": "3f71b3e4",
   "metadata": {},
   "outputs": [],
   "source": [
    "store_1 = Products('D-Mart', 'Banglore')"
   ]
  },
  {
   "cell_type": "code",
   "execution_count": 236,
   "id": "bd54de83",
   "metadata": {},
   "outputs": [],
   "source": [
    "store_1.store_products('Tea', 200, 36)\n",
    "store_1.store_products('Sandwich', 250, 12)"
   ]
  },
  {
   "cell_type": "code",
   "execution_count": 237,
   "id": "b63cc2e3",
   "metadata": {},
   "outputs": [
    {
     "data": {
      "text/plain": [
       "[['Tea', 200, 36], ['Sandwich', 250, 12]]"
      ]
     },
     "execution_count": 237,
     "metadata": {},
     "output_type": "execute_result"
    }
   ],
   "source": [
    "store_1.get_products()"
   ]
  },
  {
   "cell_type": "code",
   "execution_count": 238,
   "id": "2cc125e3",
   "metadata": {},
   "outputs": [
    {
     "data": {
      "text/plain": [
       "('D-Mart', 'Banglore')"
      ]
     },
     "execution_count": 238,
     "metadata": {},
     "output_type": "execute_result"
    }
   ],
   "source": [
    "store_1.store_name, store_1.location"
   ]
  },
  {
   "cell_type": "code",
   "execution_count": 239,
   "id": "b1507236",
   "metadata": {},
   "outputs": [
    {
     "name": "stdout",
     "output_type": "stream",
     "text": [
      "2 Sandwich deleted sucessfully\n"
     ]
    }
   ],
   "source": [
    "store_1.delete_product('Sandwich', 2)"
   ]
  },
  {
   "cell_type": "code",
   "execution_count": 240,
   "id": "4af42a1c",
   "metadata": {},
   "outputs": [
    {
     "data": {
      "text/plain": [
       "[['Tea', 200, 36], ['Sandwich', 250, 10]]"
      ]
     },
     "execution_count": 240,
     "metadata": {},
     "output_type": "execute_result"
    }
   ],
   "source": [
    "store_1.get_products()"
   ]
  },
  {
   "cell_type": "code",
   "execution_count": 241,
   "id": "89a37d32",
   "metadata": {},
   "outputs": [
    {
     "name": "stdout",
     "output_type": "stream",
     "text": [
      "Invalid Input\n"
     ]
    }
   ],
   "source": [
    "store_1.delete_product('Milk', 2)"
   ]
  },
  {
   "cell_type": "code",
   "execution_count": null,
   "id": "15ac4c44",
   "metadata": {},
   "outputs": [],
   "source": []
  },
  {
   "cell_type": "code",
   "execution_count": null,
   "id": "a115b807",
   "metadata": {},
   "outputs": [],
   "source": []
  },
  {
   "cell_type": "code",
   "execution_count": null,
   "id": "eb33cd30",
   "metadata": {},
   "outputs": [],
   "source": []
  },
  {
   "cell_type": "code",
   "execution_count": 39,
   "id": "8a6d3085",
   "metadata": {},
   "outputs": [
    {
     "name": "stdout",
     "output_type": "stream",
     "text": [
      "Laptop: $999.99, Quantity: 10\n",
      "Phone: $499.99, Quantity: 15\n"
     ]
    }
   ],
   "source": [
    "# Define the Product class\n",
    "class Product:\n",
    "    def __init__(self, name, price, quantity):\n",
    "        self.name = name\n",
    "        self.price = price\n",
    "        self.quantity = quantity\n",
    "\n",
    "# Create instances of the Product class\n",
    "laptop = Product(\"Laptop\", 999.99, 10)\n",
    "phone = Product(\"Phone\", 499.99, 15)\n",
    "\n",
    "# Display product information\n",
    "print(f\"{laptop.name}: ${laptop.price:.2f}, Quantity: {laptop.quantity}\")\n",
    "print(f\"{phone.name}: ${phone.price:.2f}, Quantity: {phone.quantity}\")"
   ]
  },
  {
   "cell_type": "markdown",
   "id": "3b499cb4",
   "metadata": {},
   "source": [
    "**Explanation:**\n",
    "Classes serve as blueprints for creating objects. In this example, we define the `Product` class with attributes `name`, `price`, and `quantity`. We then create instances (objects) of the class and display their information.\n",
    "\n",
    "**2. Methods and Encapsulation: Inventory Management**\n",
    "\n",
    "Extend the `Product` class with methods to update quantities and display product information.\n",
    "\n",
    "**Example Code:**"
   ]
  },
  {
   "cell_type": "code",
   "execution_count": 40,
   "id": "32ecebdd",
   "metadata": {},
   "outputs": [
    {
     "name": "stdout",
     "output_type": "stream",
     "text": [
      "Laptop: $999.99, Quantity: 8\n",
      "Phone: $499.99, Quantity: 15\n"
     ]
    }
   ],
   "source": [
    "# Define the Product class with methods\n",
    "class Product:\n",
    "    def __init__(self, name, price, quantity):\n",
    "        self.name = name\n",
    "        self.price = price\n",
    "        self.quantity = quantity\n",
    "\n",
    "    def update_quantity(self, new_quantity):\n",
    "        self.quantity = new_quantity\n",
    "\n",
    "    def display_info(self):\n",
    "        print(f\"{self.name}: ${self.price:.2f}, Quantity: {self.quantity}\")\n",
    "\n",
    "# Create instances of the Product class\n",
    "laptop = Product(\"Laptop\", 999.99, 10)\n",
    "phone = Product(\"Phone\", 499.99, 15)\n",
    "\n",
    "# Update quantity and display product information\n",
    "laptop.update_quantity(8)\n",
    "laptop.display_info()\n",
    "phone.display_info()"
   ]
  },
  {
   "cell_type": "markdown",
   "id": "f49a7a76",
   "metadata": {},
   "source": [
    "**Explanation:**\n",
    "Methods are functions associated with classes. In this example, we add methods `update_quantity()` and `display_info()` to the `Product` class. We create instances, update quantities using methods, and display product information.\n",
    "\n",
    "**3. Inheritance: Specialized Products**\n",
    "\n",
    "Create a specialized class `ElectronicProduct` that inherits from `Product` and includes an additional attribute for warranty duration.\n",
    "\n",
    "**Example Code:**"
   ]
  },
  {
   "cell_type": "code",
   "execution_count": 42,
   "id": "70a9e1cb",
   "metadata": {},
   "outputs": [
    {
     "name": "stdout",
     "output_type": "stream",
     "text": [
      "Laptop: $999.99, Quantity: 10\n",
      "Warranty: 12 months\n",
      "Phone: $499.99, Quantity: 15\n",
      "Warranty: 6 months\n"
     ]
    }
   ],
   "source": [
    "class Product:\n",
    "    def __init__(self, name, price, quantity):\n",
    "        self.name = name\n",
    "        self.price = price\n",
    "        self.quantity = quantity\n",
    "    def display_info(self):\n",
    "        print(f\"{self.name}: ${self.price:.2f}, Quantity: {self.quantity}\")\n",
    "\n",
    "# Define the ElectronicProduct class that inherits from Product\n",
    "class ElectronicProduct(Product):\n",
    "    def __init__(self, name, price, quantity, warranty_months):\n",
    "        super().__init__(name, price, quantity)\n",
    "        self.warranty_months = warranty_months\n",
    "\n",
    "    def display_info(self):\n",
    "        super().display_info()\n",
    "        print(f\"Warranty: {self.warranty_months} months\")\n",
    "\n",
    "# Create instances of the ElectronicProduct class\n",
    "laptop = ElectronicProduct(\"Laptop\", 999.99, 10, 12)\n",
    "phone = ElectronicProduct(\"Phone\", 499.99, 15, 6)\n",
    "\n",
    "# Display electronic product information\n",
    "laptop.display_info()\n",
    "phone.display_info()"
   ]
  },
  {
   "cell_type": "markdown",
   "id": "31babc98",
   "metadata": {},
   "source": [
    "**Explanation:**\n",
    "Inheritance allows us to create specialized classes based on existing classes. In this example, the `ElectronicProduct` class inherits from `Product` and includes an additional attribute `warranty_months`. We override the `display_info()` method to include warranty information."
   ]
  },
  {
   "cell_type": "markdown",
   "id": "1568e97b",
   "metadata": {},
   "source": [
    "\n",
    "**4. Method Overriding: Discounted Electronic Products**\n",
    "\n",
    "Implement method overriding to calculate discounted prices for electronic products.\n",
    "\n",
    "**Example Code:**"
   ]
  },
  {
   "cell_type": "code",
   "execution_count": 45,
   "id": "4faec647",
   "metadata": {},
   "outputs": [
    {
     "name": "stdout",
     "output_type": "stream",
     "text": [
      "Discounted Price: $849.99\n"
     ]
    }
   ],
   "source": [
    "class Product:\n",
    "    def __init__(self, name, price, quantity):\n",
    "        self.name = name\n",
    "        self.price = price\n",
    "        self.quantity = quantity\n",
    "    def display_info(self):\n",
    "        print(f\"{self.name}: ${self.price:.2f}, Quantity: {self.quantity}\")\n",
    "#Define the ElectronicProduct class with method overriding\n",
    "class ElectronicProduct(Product):\n",
    "    def __init__(self, name, price, quantity, warranty_months):\n",
    "        super().__init__(name, price, quantity)\n",
    "        self.warranty_months = warranty_months\n",
    "\n",
    "    def display_info(self):\n",
    "        super().display_info()\n",
    "        print(f\"Warranty: {self.warranty_months} months\")\n",
    "\n",
    "    def calculate_discounted_price(self, discount):\n",
    "        discounted_price = self.price * (1 - discount)\n",
    "        return discounted_price\n",
    "\n",
    "# Create an instance of the ElectronicProduct class\n",
    "laptop = ElectronicProduct(\"Laptop\", 999.99, 10, 12)\n",
    "\n",
    "# Calculate and display discounted price\n",
    "discount = 0.15  # 15% discount\n",
    "discounted_price = laptop.calculate_discounted_price(discount)\n",
    "print(f\"Discounted Price: ${discounted_price:.2f}\")"
   ]
  },
  {
   "cell_type": "markdown",
   "id": "1e2466bf",
   "metadata": {},
   "source": [
    "**Explanation:**\n",
    "Method overriding allows a subclass to provide a specific implementation of a method inherited from a superclass. In this example, we override the `calculate_discounted_price()` method in the `ElectronicProduct` class to calculate discounted prices for electronic products.\n",
    "\n",
    "**5. Object Overloading: Shopping Cart Aggregation**\n",
    "Problem Statement: Implement object overloading to allow aggregation of products in the shopping cart.\n"
   ]
  },
  {
   "cell_type": "code",
   "execution_count": 248,
   "id": "2a0be3a8",
   "metadata": {},
   "outputs": [
    {
     "data": {
      "text/plain": [
       "[<__main__.Product at 0x107305460>, <__main__.Product at 0x106eb7880>]"
      ]
     },
     "execution_count": 248,
     "metadata": {},
     "output_type": "execute_result"
    }
   ],
   "source": [
    "cart.products"
   ]
  },
  {
   "cell_type": "code",
   "execution_count": 249,
   "id": "762b6f36",
   "metadata": {},
   "outputs": [],
   "source": [
    "li = ['prod{}'.format(i) for i in range(10)]"
   ]
  },
  {
   "cell_type": "code",
   "execution_count": 250,
   "id": "1b2b997a",
   "metadata": {},
   "outputs": [
    {
     "data": {
      "text/plain": [
       "['prod0',\n",
       " 'prod1',\n",
       " 'prod2',\n",
       " 'prod3',\n",
       " 'prod4',\n",
       " 'prod5',\n",
       " 'prod6',\n",
       " 'prod7',\n",
       " 'prod8',\n",
       " 'prod9']"
      ]
     },
     "execution_count": 250,
     "metadata": {},
     "output_type": "execute_result"
    }
   ],
   "source": [
    "li"
   ]
  },
  {
   "cell_type": "code",
   "execution_count": 256,
   "id": "52d6ea35",
   "metadata": {},
   "outputs": [
    {
     "name": "stdout",
     "output_type": "stream",
     "text": [
      "prod0\n",
      "prod1\n",
      "prod2\n",
      "prod3\n",
      "prod4\n",
      "prod5\n",
      "prod6\n",
      "prod7\n",
      "prod8\n",
      "prod9\n"
     ]
    }
   ],
   "source": [
    "print('\\n'.join(li))"
   ]
  },
  {
   "cell_type": "code",
   "execution_count": 262,
   "id": "c423d9db",
   "metadata": {},
   "outputs": [
    {
     "name": "stdout",
     "output_type": "stream",
     "text": [
      "Shopping Cart:\n",
      "Laptop - $ 999.99\n",
      "Phone - $ 499.99\n"
     ]
    }
   ],
   "source": [
    "class Product:\n",
    "    def __init__(self, name, price):\n",
    "        self.name = name\n",
    "        self.price = price\n",
    "    def display_info(self):\n",
    "        print(f\"{self.name}: ${self.price:.2f}, Quantity: {self.quantity}\")\n",
    "# Define the Cart class with object overloading\n",
    "class Cart:\n",
    "    def __init__(self):\n",
    "        self.products_list = []\n",
    "\n",
    "    def add_product(self, product):\n",
    "        self.products_list.append(product)\n",
    "\n",
    "    def __str__(self):\n",
    "        cart_content = \"\\n\".join([\"{} - $ {}\".format(product.name, product.price) for product in self.products_list])\n",
    "        return \"Shopping Cart:\\n{}\".format(cart_content)\n",
    "\n",
    "# Create instances of the Product class\n",
    "laptop = Product(\"Laptop\", 999.99)\n",
    "phone = Product(\"Phone\", 499.99)\n",
    "\n",
    "# Create an instance of the Cart class and add products\n",
    "cart = Cart()\n",
    "cart.add_product(laptop)\n",
    "cart.add_product(phone)\n",
    "\n",
    "# Display the shopping cart\n",
    "print(cart)"
   ]
  },
  {
   "cell_type": "code",
   "execution_count": 261,
   "id": "22699d74",
   "metadata": {},
   "outputs": [
    {
     "data": {
      "text/plain": [
       "'Shopping Cart:\\nLaptop - $ 999.99\\nPhone - $ 499.99'"
      ]
     },
     "execution_count": 261,
     "metadata": {},
     "output_type": "execute_result"
    }
   ],
   "source": [
    "str(cart)"
   ]
  },
  {
   "cell_type": "markdown",
   "id": "859b53a4",
   "metadata": {},
   "source": [
    "## Exception Handling and File Handling\n",
    "\n",
    "**Introduction:**\n",
    "In the bustling world of e-commerce, robust error handling and effective data management are imperative. This section delves into the intricate realms of exception handling and file handling, equipping us with the skills to gracefully manage errors and seamlessly store and retrieve critical retail information.\n",
    "\n",
    "**1. Exception Handling: Preventing Negative Product Quantities**\n",
    "\n",
    "Use exception handling to prevent negative product quantities when processing orders.\n",
    "\n",
    "**Example Code:**"
   ]
  },
  {
   "cell_type": "code",
   "execution_count": 12,
   "id": "bd23f6f8",
   "metadata": {},
   "outputs": [
    {
     "name": "stdout",
     "output_type": "stream",
     "text": [
      "ghj\n"
     ]
    },
    {
     "ename": "ValueError",
     "evalue": "invalid literal for int() with base 10: 'ghj'",
     "output_type": "error",
     "traceback": [
      "\u001b[0;31m---------------------------------------------------------------------------\u001b[0m",
      "\u001b[0;31mValueError\u001b[0m                                Traceback (most recent call last)",
      "Input \u001b[0;32mIn [12]\u001b[0m, in \u001b[0;36m<cell line: 1>\u001b[0;34m()\u001b[0m\n\u001b[0;32m----> 1\u001b[0m num \u001b[38;5;241m=\u001b[39m \u001b[38;5;28;43mint\u001b[39;49m\u001b[43m(\u001b[49m\u001b[38;5;28;43minput\u001b[39;49m\u001b[43m(\u001b[49m\u001b[43m)\u001b[49m\u001b[43m)\u001b[49m\n",
      "\u001b[0;31mValueError\u001b[0m: invalid literal for int() with base 10: 'ghj'"
     ]
    }
   ],
   "source": [
    "num = input()\n",
    "if not type(num) == int:\n",
    "    print('Enter numbers only')"
   ]
  },
  {
   "cell_type": "code",
   "execution_count": 9,
   "id": "0f560886",
   "metadata": {},
   "outputs": [],
   "source": [
    "class orders:\n",
    "    def order_details(self):\n",
    "        try:\n",
    "            self.name = input('Enter the name of the product: ')\n",
    "            self.quantity = int(input('Enter the quantity: '))\n",
    "            assert self.quantity > 0, 'Quantity should be greater than 0'\n",
    "        except Exception as e:\n",
    "            print(e)\n",
    "            return True\n",
    "        else:\n",
    "            return False\n",
    "    def place_order(self):\n",
    "        return 'orderd placed for {} units of {}'.format(self.quantity, self.name)"
   ]
  },
  {
   "cell_type": "code",
   "execution_count": 10,
   "id": "31458ff7",
   "metadata": {},
   "outputs": [],
   "source": [
    "ob = orders()"
   ]
  },
  {
   "cell_type": "code",
   "execution_count": 11,
   "id": "b0d7a9d8",
   "metadata": {},
   "outputs": [
    {
     "name": "stdout",
     "output_type": "stream",
     "text": [
      "Enter the name of the product: Laptop\n",
      "Enter the quantity: 0\n",
      "Quantity should be greater than 0\n",
      "Enter the name of the product: laptop\n",
      "Enter the quantity: 10\n"
     ]
    },
    {
     "data": {
      "text/plain": [
       "'orderd placed for 10 units of laptop'"
      ]
     },
     "execution_count": 11,
     "metadata": {},
     "output_type": "execute_result"
    }
   ],
   "source": [
    "condition = ob.order_details()\n",
    "while condition:\n",
    "    condition = ob.order_details()\n",
    "ob.place_order()"
   ]
  },
  {
   "cell_type": "code",
   "execution_count": 48,
   "id": "5a767117",
   "metadata": {},
   "outputs": [
    {
     "name": "stdout",
     "output_type": "stream",
     "text": [
      "Order processed: 5 Laptop(s)\n",
      "Error: Quantity must be a positive integer.\n",
      "Error: Insufficient product quantity.\n"
     ]
    }
   ],
   "source": [
    "# Define the Product class\n",
    "class Product:\n",
    "    def __init__(self, name, price, quantity):\n",
    "        self.name = name\n",
    "        self.price = price\n",
    "        self.quantity = quantity\n",
    "\n",
    "# Define a function to process orders safely\n",
    "def process_order(product, quantity):\n",
    "    try:\n",
    "        if quantity <= 0:\n",
    "            raise ValueError(\"Quantity must be a positive integer.\")\n",
    "        if quantity > product.quantity:\n",
    "            raise ValueError(\"Insufficient product quantity.\")\n",
    "        product.quantity -= quantity\n",
    "        print(f\"Order processed: {quantity} {product.name}(s)\")\n",
    "    except ValueError as ve:\n",
    "        print(f\"Error: {ve}\")\n",
    "\n",
    "# Create an instance of the Product class\n",
    "laptop = Product(\"Laptop\", 999.99, 10)\n",
    "\n",
    "# Process orders with different quantities\n",
    "process_order(laptop, 5)   # Success\n",
    "process_order(laptop, -2)  # Error: Quantity must be a positive integer.\n",
    "process_order(laptop, 7)   # Error: Insufficient product quantity."
   ]
  },
  {
   "cell_type": "markdown",
   "id": "b9a52020",
   "metadata": {},
   "source": [
    "**Explanation:**\n",
    "- We define the `Product` class with attributes `name`, `price`, and `quantity`.\n",
    "- The `process_order()` function processes orders using exception handling.\n",
    "- The `try` block contains the code that may raise an exception.\n",
    "- If an exception is raised, it's caught by the `except` block, and an error message is displayed.\n",
    "\n",
    "**2. File Handling: Order History Logging**\n",
    "\n",
    "Implement file handling to log order history in a text file.\n",
    "\n",
    "**Example Code:**"
   ]
  },
  {
   "cell_type": "code",
   "execution_count": 19,
   "id": "02152b00",
   "metadata": {},
   "outputs": [],
   "source": [
    "fil = open('test_file.txt', 'w')"
   ]
  },
  {
   "cell_type": "code",
   "execution_count": 20,
   "id": "c04464f1",
   "metadata": {},
   "outputs": [
    {
     "data": {
      "text/plain": [
       "19"
      ]
     },
     "execution_count": 20,
     "metadata": {},
     "output_type": "execute_result"
    }
   ],
   "source": [
    "fil.write('Hello from Python !')"
   ]
  },
  {
   "cell_type": "code",
   "execution_count": 21,
   "id": "f5e0d832",
   "metadata": {},
   "outputs": [],
   "source": [
    "fil.close()"
   ]
  },
  {
   "cell_type": "code",
   "execution_count": 22,
   "id": "9067c685",
   "metadata": {},
   "outputs": [
    {
     "name": "stdout",
     "output_type": "stream",
     "text": [
      "Hello from Python !\n"
     ]
    }
   ],
   "source": [
    "with open('test_file.txt', 'r') as fil:\n",
    "    print(fil.read())"
   ]
  },
  {
   "cell_type": "code",
   "execution_count": 49,
   "id": "a712fe7b",
   "metadata": {},
   "outputs": [
    {
     "name": "stdout",
     "output_type": "stream",
     "text": [
      "Order processed: 5 Laptop(s)\n",
      "Order processed: 3 Laptop(s)\n"
     ]
    }
   ],
   "source": [
    "# Define the Product class\n",
    "class Product:\n",
    "    def __init__(self, name, price, quantity):\n",
    "        self.name = name\n",
    "        self.price = price\n",
    "        self.quantity = quantity\n",
    "\n",
    "# Define a function to process orders and log order history\n",
    "def process_order(product, quantity):\n",
    "    try:\n",
    "        if quantity <= 0:\n",
    "            raise ValueError(\"Quantity must be a positive integer.\")\n",
    "        if quantity > product.quantity:\n",
    "            raise ValueError(\"Insufficient product quantity.\")\n",
    "        product.quantity -= quantity\n",
    "        log_order(product.name, quantity)  # Log order history\n",
    "        print(f\"Order processed: {quantity} {product.name}(s)\")\n",
    "    except ValueError as ve:\n",
    "        print(f\"Error: {ve}\")\n",
    "\n",
    "# Define a function to log order history to a file\n",
    "def log_order(product_name, quantity):\n",
    "    with open(\"order_history.txt\", \"a\") as file:\n",
    "        file.write(f\"Ordered: {quantity} {product_name}\\n\")\n",
    "\n",
    "# Create an instance of the Product class\n",
    "laptop = Product(\"Laptop\", 999.99, 10)\n",
    "\n",
    "# Process orders and log history\n",
    "process_order(laptop, 5)\n",
    "process_order(laptop, 3)"
   ]
  },
  {
   "cell_type": "markdown",
   "id": "182c4208",
   "metadata": {},
   "source": [
    "**Explanation:**\n",
    "- We define the `Product` class with attributes `name`, `price`, and `quantity`.\n",
    "- The `process_order()` function processes orders and logs history using the `log_order()` function.\n",
    "- The `with open(...) as file:` statement ensures safe file handling and automatically closes the file when done.\n",
    "\n",
    "**3. File Handling: Customer Database Management**\n",
    "Problem Statement: Create a customer database using file handling to store and retrieve customer profiles.\n",
    "\n",
    "**Example Code:**\n"
   ]
  },
  {
   "cell_type": "code",
   "execution_count": 50,
   "id": "57184063",
   "metadata": {},
   "outputs": [
    {
     "name": "stdout",
     "output_type": "stream",
     "text": [
      "Added customer: Alice Johnson\n",
      "Added customer: Bob Smith\n",
      "Name: Alice Johnson, Email: alice@example.com\n",
      "Name: Bob Smith, Email: bob@example.com\n"
     ]
    }
   ],
   "source": [
    "# Define the Customer class\n",
    "class Customer:\n",
    "    def __init__(self, name, email):\n",
    "        self.name = name\n",
    "        self.email = email\n",
    "\n",
    "# Define a function to add a new customer to the database\n",
    "def add_customer_to_database(customer):\n",
    "    with open(\"customer_database.txt\", \"a\") as file:\n",
    "        file.write(f\"{customer.name},{customer.email}\\n\")\n",
    "    print(f\"Added customer: {customer.name}\")\n",
    "\n",
    "# Define a function to retrieve customer profiles from the database\n",
    "def get_customer_profiles():\n",
    "    customers = []\n",
    "    with open(\"customer_database.txt\", \"r\") as file:\n",
    "        lines = file.readlines()\n",
    "        for line in lines:\n",
    "            name, email = line.strip().split(\",\")\n",
    "            customers.append(Customer(name, email))\n",
    "    return customers\n",
    "\n",
    "# Create instances of the Customer class and add them to the database\n",
    "alice = Customer(\"Alice Johnson\", \"alice@example.com\")\n",
    "bob = Customer(\"Bob Smith\", \"bob@example.com\")\n",
    "add_customer_to_database(alice)\n",
    "add_customer_to_database(bob)\n",
    "\n",
    "# Retrieve and display customer profiles from the database\n",
    "customer_profiles = get_customer_profiles()\n",
    "for customer in customer_profiles:\n",
    "    print(f\"Name: {customer.name}, Email: {customer.email}\")"
   ]
  },
  {
   "cell_type": "markdown",
   "id": "967f3896",
   "metadata": {},
   "source": [
    "**Explanation:**\n",
    "- We define the `Customer` class with attributes `name` and `email`.\n",
    "- The `add_customer_to_database()` function adds customer profiles to the database file.\n",
    "- The `get_customer_profiles()` function retrieves customer profiles from the database file and creates instances of the `Customer` class.\n"
   ]
  },
  {
   "cell_type": "code",
   "execution_count": null,
   "id": "eef23efa",
   "metadata": {},
   "outputs": [],
   "source": []
  }
 ],
 "metadata": {
  "kernelspec": {
   "display_name": "Python 3 (ipykernel)",
   "language": "python",
   "name": "python3"
  },
  "language_info": {
   "codemirror_mode": {
    "name": "ipython",
    "version": 3
   },
   "file_extension": ".py",
   "mimetype": "text/x-python",
   "name": "python",
   "nbconvert_exporter": "python",
   "pygments_lexer": "ipython3",
   "version": "3.9.10"
  }
 },
 "nbformat": 4,
 "nbformat_minor": 5
}
