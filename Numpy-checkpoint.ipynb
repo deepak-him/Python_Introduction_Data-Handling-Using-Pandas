{
 "cells": [
  {
   "cell_type": "markdown",
   "id": "6661f072",
   "metadata": {},
   "source": [
    "## Overview\n",
    "\n",
    "In this session, we will delve into using the NumPy library for financial data analysis. NumPy is a versatile Python library for numerical computations, and it plays a crucial role in performing various financial calculations and manipulations. We will use financial data examples to illustrate key concepts and operations.\n",
    "\n",
    "## Table of Contents\n",
    "\n",
    "1. **Introduction to NumPy for Finance**\n",
    "   - What is NumPy?\n",
    "   - Installation and Importing\n",
    "\n",
    "2. **Array Creation and Attributes**\n",
    "   - Creating NumPy Arrays\n",
    "   - Array Attributes and Data Types\n",
    "\n",
    "3. **Array Dimensions and Indexing**\n",
    "   - Working with Different Dimensions\n",
    "   - Array Indexing and Slicing\n",
    "\n",
    "4. **Array Concatenation and Split**\n",
    "   - Concatenating Arrays\n",
    "   - Splitting Arrays\n",
    "\n",
    "5. **Array Broadcasting and Mathematical Operations**\n",
    "   - Understanding Array Broadcasting\n",
    "   - Mathematical Operations on Arrays\n",
    "\n",
    "6. **Iterating Arrays with nditer**\n",
    "   - Using the nditer Function\n",
    "   - Iterating Over Array Elements\n",
    "\n",
    "7. **Manipulating Axes and Swapping Axes**\n",
    "   - Rolling and Swapping Axes\n",
    "   - Modifying Array Shape\n",
    "\n",
    "8. **Copying and Views**\n",
    "   - Copying vs. Views\n",
    "   - Creating Views of Arrays\n",
    "\n",
    "9. **Mathematical Functions and Operations**\n",
    "   - Basic Mathematical Functions\n",
    "   - Advanced Mathematical Operations\n",
    "\n",
    "## Prerequisites\n",
    "\n",
    "Before proceeding, you should have a basic understanding of Python programming. Ensure that you have Python installed on your system, along with the NumPy library."
   ]
  },
  {
   "cell_type": "markdown",
   "id": "8203e311",
   "metadata": {},
   "source": [
    "## Section 1: Array Creation and Attributes\n",
    "\n",
    "### 1.1 Problem Statement\n",
    "\n",
    "As a financial analyst, you've been tasked with analyzing historical stock prices for a portfolio of companies. To perform these analyses, you need to create arrays to store the data and understand important array attributes and data types for further processing.\n",
    "\n",
    "### 1.2 Creating NumPy Arrays\n",
    "\n",
    "In financial data analysis, it's essential to efficiently store and manage numerical data. NumPy provides various methods for creating arrays. Let's explore how to create arrays for the historical stock prices of three companies: Company A, Company B, and Company C.\n",
    "\n",
    "#### 1.2.1 Creating a Simple Array"
   ]
  },
  {
   "cell_type": "code",
   "execution_count": 1,
   "id": "b6f274c2",
   "metadata": {},
   "outputs": [
    {
     "name": "stdout",
     "output_type": "stream",
     "text": [
      "Company A prices: [150 155 160 158 162]\n",
      "Company B prices: [75.5 77.  76.  78.5 80. ]\n",
      "Company C prices: [200 198 203 197 205]\n"
     ]
    }
   ],
   "source": [
    "import numpy as np\n",
    "\n",
    "# Creating arrays for historical stock prices\n",
    "company_a_prices = np.array([150, 155, 160, 158, 162])\n",
    "company_b_prices = np.array([75.5, 77, 76, 78.5, 80])\n",
    "company_c_prices = np.array([200, 198, 203, 197, 205])\n",
    "\n",
    "# Display the arrays\n",
    "print(\"Company A prices:\", company_a_prices)\n",
    "print(\"Company B prices:\", company_b_prices)\n",
    "print(\"Company C prices:\", company_c_prices)"
   ]
  },
  {
   "cell_type": "code",
   "execution_count": 2,
   "id": "758a73c0",
   "metadata": {},
   "outputs": [
    {
     "data": {
      "text/plain": [
       "numpy.ndarray"
      ]
     },
     "execution_count": 2,
     "metadata": {},
     "output_type": "execute_result"
    }
   ],
   "source": [
    "type(company_a_prices)"
   ]
  },
  {
   "cell_type": "markdown",
   "id": "dc11e2be",
   "metadata": {},
   "source": [
    "#### 1.2.2 Creating a Range of Values"
   ]
  },
  {
   "cell_type": "code",
   "execution_count": 2,
   "id": "0217dc06",
   "metadata": {},
   "outputs": [
    {
     "name": "stdout",
     "output_type": "stream",
     "text": [
      "Days: [1 2 3 4 5]\n"
     ]
    }
   ],
   "source": [
    "# Creating an array of days\n",
    "days = np.arange(1, 6)\n",
    "\n",
    "# Display the array\n",
    "print(\"Days:\", days)"
   ]
  },
  {
   "cell_type": "markdown",
   "id": "a54e4067",
   "metadata": {},
   "source": [
    "#### 1.2.3 Creating an Array of Zeros or Ones"
   ]
  },
  {
   "cell_type": "code",
   "execution_count": 3,
   "id": "af252c08",
   "metadata": {},
   "outputs": [
    {
     "name": "stdout",
     "output_type": "stream",
     "text": [
      "Quantities: [0. 0. 0. 0. 0.]\n",
      "Weights: [1. 1. 1. 1. 1.]\n"
     ]
    }
   ],
   "source": [
    "# Creating an array of zeros for quantities\n",
    "quantities = np.zeros(5)\n",
    "\n",
    "# Creating an array of ones for weights\n",
    "weights = np.ones(5)\n",
    "\n",
    "# Display the arrays\n",
    "print(\"Quantities:\", quantities)\n",
    "print(\"Weights:\", weights)"
   ]
  },
  {
   "cell_type": "code",
   "execution_count": null,
   "id": "eef8dad6",
   "metadata": {},
   "outputs": [],
   "source": [
    "np.linspace(start, stop, count)"
   ]
  },
  {
   "cell_type": "markdown",
   "id": "39a665bf",
   "metadata": {},
   "source": [
    "### 1.3 Array Attributes and Data Types\n",
    "\n",
    "When working with arrays, understanding their attributes and data types is crucial for effective analysis. Let's explore key attributes and data types.\n",
    "\n",
    "#### 1.3.1 Shape of an Array\n",
    "\n",
    "The shape of an array provides insights into its dimensions. Let's examine the shape of the arrays representing stock prices and quantities.\n"
   ]
  },
  {
   "cell_type": "code",
   "execution_count": 4,
   "id": "6714c9c7",
   "metadata": {},
   "outputs": [
    {
     "name": "stdout",
     "output_type": "stream",
     "text": [
      "Shape of Company A prices array: (5,)\n",
      "Shape of quantities array: (5,)\n"
     ]
    }
   ],
   "source": [
    "# Shape of company A prices array\n",
    "print(\"Shape of Company A prices array:\", company_a_prices.shape)\n",
    "\n",
    "# Shape of quantities array\n",
    "print(\"Shape of quantities array:\", quantities.shape)"
   ]
  },
  {
   "cell_type": "markdown",
   "id": "19fbd7c2",
   "metadata": {},
   "source": [
    "#### 1.3.2 Data Type of an Array\n",
    "\n",
    "The data type of an array determines the type of elements it holds. Let's investigate the data types of the arrays representing stock prices and days.\n"
   ]
  },
  {
   "cell_type": "code",
   "execution_count": 5,
   "id": "d9ee1cb9",
   "metadata": {},
   "outputs": [
    {
     "name": "stdout",
     "output_type": "stream",
     "text": [
      "Data type of Company B prices array: float64\n",
      "Data type of days array: int64\n"
     ]
    }
   ],
   "source": [
    "# Data type of company B prices array\n",
    "print(\"Data type of Company B prices array:\", company_b_prices.dtype)\n",
    "\n",
    "# Data type of days array\n",
    "print(\"Data type of days array:\", days.dtype)"
   ]
  },
  {
   "cell_type": "markdown",
   "id": "96f73035",
   "metadata": {},
   "source": [
    "### 1.4 Explanation of Concepts\n",
    "\n",
    "- **Creating NumPy Arrays:** We used various methods to create arrays, such as `np.array()`, `np.arange()`, `np.zeros()`, and `np.ones()`. These methods help us efficiently organize and manage financial data.\n",
    "\n",
    "- **Array Attributes and Data Types:** Understanding the `shape` of an array is crucial for determining its structure, and knowing the `data type` ensures accurate calculations and analyses."
   ]
  },
  {
   "cell_type": "markdown",
   "id": "78238bca",
   "metadata": {},
   "source": [
    "## Section 2: Array Dimensions and Indexing\n",
    "\n",
    "### 2.1 Problem Statement\n",
    "\n",
    "As you continue your journey in financial analysis, you encounter larger datasets that require advanced techniques for handling multi-dimensional arrays and extracting specific information. In this section, we will explore these concepts using an extended dataset of historical stock prices for a portfolio of companies.\n",
    "\n",
    "### 2.2 Working with Different Dimensions\n",
    "\n",
    "Imagine you're analyzing a diverse portfolio of companies spanning various sectors. Let's create a 2D array representing historical stock prices for each company over multiple trading days.\n",
    "\n",
    "#### 2.2.1 Creating an Extended 2D Array\n"
   ]
  },
  {
   "cell_type": "code",
   "execution_count": 3,
   "id": "497248f6",
   "metadata": {},
   "outputs": [
    {
     "name": "stdout",
     "output_type": "stream",
     "text": [
      "Stock prices array:\n",
      "[[150.  155.  160.  158.  162.  159.  163.  162.  165.  168. ]\n",
      " [ 75.5  77.   76.   78.5  80.   81.   82.   80.   79.5  81. ]\n",
      " [200.  198.  203.  197.  205.  210.  208.  215.  220.  218. ]\n",
      " [ 40.   41.   42.   43.   44.   43.5  45.   46.   47.   48. ]\n",
      " [ 95.   94.   93.   92.   91.   90.   89.   88.   87.   86. ]\n",
      " [120.  122.  125.  123.  128.  127.  126.  130.  135.  132. ]]\n"
     ]
    }
   ],
   "source": [
    "import numpy as np\n",
    "\n",
    "# Creating a larger 2D array for stock prices of six companies over ten days\n",
    "stock_prices = np.array([[150, 155, 160, 158, 162, 159, 163, 162, 165, 168],\n",
    "                         [75.5, 77, 76, 78.5, 80, 81, 82, 80, 79.5, 81],\n",
    "                         [200, 198, 203, 197, 205, 210, 208, 215, 220, 218],\n",
    "                         [40, 41, 42, 43, 44, 43.5, 45, 46, 47, 48],\n",
    "                         [95, 94, 93, 92, 91, 90, 89, 88, 87, 86],\n",
    "                         [120, 122, 125, 123, 128, 127, 126, 130, 135, 132]])\n",
    "\n",
    "# Display the extended 2D array\n",
    "print(\"Stock prices array:\")\n",
    "print(stock_prices)"
   ]
  },
  {
   "cell_type": "markdown",
   "id": "488d384b",
   "metadata": {},
   "source": [
    "### 2.3 Array Indexing and Slicing\n",
    "\n",
    "Let's dive into indexing and slicing this larger array to extract valuable insights about the stock prices.\n",
    "\n",
    "#### 2.3.1 Indexing for Specific Companies and Days"
   ]
  },
  {
   "cell_type": "code",
   "execution_count": 6,
   "id": "6df5c6b9",
   "metadata": {},
   "outputs": [
    {
     "data": {
      "text/plain": [
       "44.0"
      ]
     },
     "execution_count": 6,
     "metadata": {},
     "output_type": "execute_result"
    }
   ],
   "source": [
    "stock_prices[3, 4]"
   ]
  },
  {
   "cell_type": "code",
   "execution_count": 7,
   "id": "dd34524e",
   "metadata": {},
   "outputs": [
    {
     "name": "stdout",
     "output_type": "stream",
     "text": [
      "Stock price of Company D on Day 5: 44.0\n"
     ]
    }
   ],
   "source": [
    "# Accessing the stock price of Company D on Day 5\n",
    "price_company_d_day_5 = stock_prices[3, 4]\n",
    "print(\"Stock price of Company D on Day 5:\", price_company_d_day_5)"
   ]
  },
  {
   "cell_type": "markdown",
   "id": "791de8db",
   "metadata": {},
   "source": [
    "#### 2.3.2 Slicing for Analysis"
   ]
  },
  {
   "cell_type": "code",
   "execution_count": 7,
   "id": "9709b137",
   "metadata": {},
   "outputs": [
    {
     "data": {
      "text/plain": [
       "array([40., 41., 42., 43., 44.])"
      ]
     },
     "execution_count": 7,
     "metadata": {},
     "output_type": "execute_result"
    }
   ],
   "source": [
    "stock_prices[3,0:5]"
   ]
  },
  {
   "cell_type": "code",
   "execution_count": 9,
   "id": "30f402cf",
   "metadata": {},
   "outputs": [
    {
     "name": "stdout",
     "output_type": "stream",
     "text": [
      "Stock prices for the first five days:\n",
      "[[150.  155.  160.  158.  162. ]\n",
      " [ 75.5  77.   76.   78.5  80. ]\n",
      " [200.  198.  203.  197.  205. ]\n",
      " [ 40.   41.   42.   43.   44. ]\n",
      " [ 95.   94.   93.   92.   91. ]\n",
      " [120.  122.  125.  123.  128. ]]\n",
      "Stock prices for the last three days of Company F:\n",
      "[130. 135. 132.]\n"
     ]
    }
   ],
   "source": [
    "# Slicing the stock prices for the first five days of all companies\n",
    "first_five_days_prices = stock_prices[:, :5]\n",
    "print(\"Stock prices for the first five days:\")\n",
    "print(first_five_days_prices)\n",
    "\n",
    "# Slicing the stock prices for the last three days of Company F\n",
    "last_three_days_company_f = stock_prices[5, -3:]\n",
    "print(\"Stock prices for the last three days of Company F:\")\n",
    "print(last_three_days_company_f)"
   ]
  },
  {
   "cell_type": "code",
   "execution_count": 8,
   "id": "c9d959e9",
   "metadata": {},
   "outputs": [
    {
     "data": {
      "text/plain": [
       "array([[150. , 160. , 162. , 163. , 165. ],\n",
       "       [ 75.5,  76. ,  80. ,  82. ,  79.5],\n",
       "       [200. , 203. , 205. , 208. , 220. ],\n",
       "       [ 40. ,  42. ,  44. ,  45. ,  47. ],\n",
       "       [ 95. ,  93. ,  91. ,  89. ,  87. ],\n",
       "       [120. , 125. , 128. , 126. , 135. ]])"
      ]
     },
     "execution_count": 8,
     "metadata": {},
     "output_type": "execute_result"
    }
   ],
   "source": [
    "stock_prices[:,::2]"
   ]
  },
  {
   "cell_type": "code",
   "execution_count": 16,
   "id": "4c07ec4e",
   "metadata": {},
   "outputs": [
    {
     "data": {
      "text/plain": [
       "array([150., 160., 162., 163., 165.])"
      ]
     },
     "execution_count": 16,
     "metadata": {},
     "output_type": "execute_result"
    }
   ],
   "source": [
    "stock_prices[0,0:9:2]"
   ]
  },
  {
   "cell_type": "code",
   "execution_count": 18,
   "id": "7fdd6eb1",
   "metadata": {},
   "outputs": [],
   "source": [
    "stock_prices[:,-1] = 0"
   ]
  },
  {
   "cell_type": "code",
   "execution_count": 20,
   "id": "988807dc",
   "metadata": {},
   "outputs": [
    {
     "name": "stdout",
     "output_type": "stream",
     "text": [
      "[[150.  155.  160.  158.  162.  159.  163.  162.  165.    0. ]\n",
      " [ 75.5  77.   76.   78.5  80.   81.   82.   80.   79.5   0. ]\n",
      " [200.  198.  203.  197.  205.  210.  208.  215.  220.    0. ]\n",
      " [ 40.   41.   42.   43.   44.   43.5  45.   46.   47.    0. ]\n",
      " [ 95.   94.   93.   92.   91.   90.   89.   88.   87.    0. ]\n",
      " [120.  122.  125.  123.  128.  127.  126.  130.  135.    0. ]]\n"
     ]
    }
   ],
   "source": [
    "print(stock_prices)"
   ]
  },
  {
   "cell_type": "code",
   "execution_count": 24,
   "id": "8e4e82d7",
   "metadata": {},
   "outputs": [
    {
     "data": {
      "text/plain": [
       "array([150., 155., 160., 158., 162., 159., 163., 162., 165., 200., 198.,\n",
       "       203., 197., 205., 210., 208., 215., 220., 120., 122., 125., 123.,\n",
       "       128., 127., 126., 130., 135.])"
      ]
     },
     "execution_count": 24,
     "metadata": {},
     "output_type": "execute_result"
    }
   ],
   "source": [
    "stock_prices[stock_prices > 100]"
   ]
  },
  {
   "cell_type": "code",
   "execution_count": 25,
   "id": "36516c3c",
   "metadata": {},
   "outputs": [],
   "source": [
    "ar = np.zeros((8,8), dtype=int)"
   ]
  },
  {
   "cell_type": "code",
   "execution_count": 26,
   "id": "5c55703c",
   "metadata": {},
   "outputs": [],
   "source": [
    "ar[::2, ::2] = 1"
   ]
  },
  {
   "cell_type": "code",
   "execution_count": 28,
   "id": "97fcd467",
   "metadata": {},
   "outputs": [],
   "source": [
    "ar[1::2, 1::2] = 1"
   ]
  },
  {
   "cell_type": "code",
   "execution_count": 30,
   "id": "30eb3d70",
   "metadata": {},
   "outputs": [
    {
     "data": {
      "text/plain": [
       "array([[1, 0, 1, 0, 1, 0, 1, 0],\n",
       "       [0, 1, 0, 1, 0, 1, 0, 1],\n",
       "       [1, 0, 1, 0, 1, 0, 1, 0],\n",
       "       [0, 1, 0, 1, 0, 1, 0, 1],\n",
       "       [1, 0, 1, 0, 1, 0, 1, 0],\n",
       "       [0, 1, 0, 1, 0, 1, 0, 1],\n",
       "       [1, 0, 1, 0, 1, 0, 1, 0],\n",
       "       [0, 1, 0, 1, 0, 1, 0, 1]])"
      ]
     },
     "execution_count": 30,
     "metadata": {},
     "output_type": "execute_result"
    }
   ],
   "source": [
    "ar"
   ]
  },
  {
   "cell_type": "code",
   "execution_count": 41,
   "id": "053bd1ef",
   "metadata": {},
   "outputs": [],
   "source": [
    "check = np.arange(0,64).reshape(8,8)"
   ]
  },
  {
   "cell_type": "code",
   "execution_count": 42,
   "id": "f05b1a32",
   "metadata": {},
   "outputs": [
    {
     "data": {
      "text/plain": [
       "array([[ 0,  1,  2,  3,  4,  5,  6,  7],\n",
       "       [ 8,  9, 10, 11, 12, 13, 14, 15],\n",
       "       [16, 17, 18, 19, 20, 21, 22, 23],\n",
       "       [24, 25, 26, 27, 28, 29, 30, 31],\n",
       "       [32, 33, 34, 35, 36, 37, 38, 39],\n",
       "       [40, 41, 42, 43, 44, 45, 46, 47],\n",
       "       [48, 49, 50, 51, 52, 53, 54, 55],\n",
       "       [56, 57, 58, 59, 60, 61, 62, 63]])"
      ]
     },
     "execution_count": 42,
     "metadata": {},
     "output_type": "execute_result"
    }
   ],
   "source": [
    "check"
   ]
  },
  {
   "cell_type": "code",
   "execution_count": 43,
   "id": "c4000a38",
   "metadata": {},
   "outputs": [],
   "source": [
    "check[check%2==0] = 0"
   ]
  },
  {
   "cell_type": "code",
   "execution_count": 46,
   "id": "1a9839c4",
   "metadata": {},
   "outputs": [],
   "source": [
    "check[check != 0] = 1"
   ]
  },
  {
   "cell_type": "code",
   "execution_count": null,
   "id": "ffebc58e",
   "metadata": {},
   "outputs": [],
   "source": []
  },
  {
   "cell_type": "code",
   "execution_count": null,
   "id": "11735d96",
   "metadata": {},
   "outputs": [],
   "source": []
  },
  {
   "cell_type": "markdown",
   "id": "373f7bf3",
   "metadata": {},
   "source": [
    "### 2.4 Explanation of Concepts\n",
    "\n",
    "- **Working with Different Dimensions:** In a realistic financial analysis scenario, multi-dimensional arrays efficiently accommodate diverse datasets, enhancing data organization and analysis.\n",
    "\n",
    "- **Array Indexing and Slicing:** Indexing and slicing help extract targeted information from arrays, enabling focused analysis on specific companies or time periods.\n"
   ]
  },
  {
   "cell_type": "markdown",
   "id": "e1399b45",
   "metadata": {},
   "source": [
    "## Section 3: Array Concatenation and Split\n",
    "\n",
    "### 3.1 Problem Statement\n",
    "\n",
    "As a financial analyst specializing in investment portfolios, your ability to analyze and extract insights from diverse financial data is crucial. Efficiently combining and splitting arrays is essential for comprehensive analysis. In this section, we will delve into the strategic applications of array concatenation and splitting using a comprehensive dataset of historical stock prices.\n",
    "\n",
    "### 3.2 Array Concatenation and Stacking for Portfolio Insight\n",
    "\n",
    "Imagine you're analyzing the quarterly stock prices of two companies, Company P and Company Q, over four consecutive quarters: Q1, Q2, Q3, and Q4. Your goal is to create a consolidated dataset that enables a comparative analysis of quarterly performance.\n",
    "\n",
    "#### 3.2.1 Concatenating Along Axis=0 and Axis=1"
   ]
  },
  {
   "cell_type": "code",
   "execution_count": 12,
   "id": "f67accfa",
   "metadata": {},
   "outputs": [
    {
     "name": "stdout",
     "output_type": "stream",
     "text": [
      "Consolidated stock prices for Companies P and Q (axis=0):\n",
      "[[150.  155.  160.  158.  162. ]\n",
      " [165.  168.  170.  172.  175. ]\n",
      " [180.  182.  185.  188.  190. ]\n",
      " [195.  198.  200.  202.  205. ]\n",
      " [ 75.5  77.   76.   78.5  80. ]\n",
      " [ 82.   81.   83.   84.   85. ]\n",
      " [ 87.   89.   88.   90.   91. ]\n",
      " [ 92.   94.   95.   96.   98. ]]\n",
      "\n",
      "Quarterly comparison stock prices for Companies P and Q (axis=1):\n",
      "[[150.  155.  160.  158.  162.   75.5  77.   76.   78.5  80. ]\n",
      " [165.  168.  170.  172.  175.   82.   81.   83.   84.   85. ]\n",
      " [180.  182.  185.  188.  190.   87.   89.   88.   90.   91. ]\n",
      " [195.  198.  200.  202.  205.   92.   94.   95.   96.   98. ]]\n"
     ]
    }
   ],
   "source": [
    "import numpy as np\n",
    "\n",
    "# Historical stock prices for Company P in Q1, Q2, Q3, and Q4\n",
    "stock_prices_p = np.array([[150, 155, 160, 158, 162],\n",
    "                           [165, 168, 170, 172, 175],\n",
    "                           [180, 182, 185, 188, 190],\n",
    "                           [195, 198, 200, 202, 205]])\n",
    "\n",
    "# Historical stock prices for Company Q in Q1, Q2, Q3, and Q4\n",
    "stock_prices_q = np.array([[75.5, 77, 76, 78.5, 80],\n",
    "                           [82, 81, 83, 84, 85],\n",
    "                           [87, 89, 88, 90, 91],\n",
    "                           [92, 94, 95, 96, 98]])\n",
    "\n",
    "# Concatenating the arrays along axis=0 for comprehensive analysis\n",
    "consolidated_stock_prices = np.concatenate((stock_prices_p, stock_prices_q), axis=0)\n",
    "\n",
    "# Display the consolidated array for Company P and Company Q\n",
    "print(\"Consolidated stock prices for Companies P and Q (axis=0):\")\n",
    "print(consolidated_stock_prices)\n",
    "\n",
    "# Concatenating the arrays along axis=1 for quarter-wise comparison\n",
    "quarterly_comparison_stock_prices = np.concatenate((stock_prices_p, stock_prices_q), axis=1)\n",
    "\n",
    "# Display the consolidated array for Company P and Company Q (axis=1)\n",
    "print(\"\\nQuarterly comparison stock prices for Companies P and Q (axis=1):\")\n",
    "print(quarterly_comparison_stock_prices)"
   ]
  },
  {
   "cell_type": "markdown",
   "id": "c8cb3723",
   "metadata": {},
   "source": [
    "### 3.3 Array Splitting for In-Depth Analysis\n",
    "\n",
    "To conduct more detailed assessments, you'll focus on the quarterly performance of Company P and Company Q. By splitting arrays, you can extract specific quarters for targeted analysis.\n",
    "\n",
    "#### 3.3.1 Splitting for Company-Specific Analysis"
   ]
  },
  {
   "cell_type": "code",
   "execution_count": 13,
   "id": "08fec167",
   "metadata": {},
   "outputs": [
    {
     "name": "stdout",
     "output_type": "stream",
     "text": [
      "Split stock prices arrays for Companies P and Q:\n",
      "Company P:\n",
      "[[150. 155. 160. 158. 162.]\n",
      " [165. 168. 170. 172. 175.]\n",
      " [180. 182. 185. 188. 190.]\n",
      " [195. 198. 200. 202. 205.]]\n",
      "\n",
      "Company Q:\n",
      "[[75.5 77.  76.  78.5 80. ]\n",
      " [82.  81.  83.  84.  85. ]\n",
      " [87.  89.  88.  90.  91. ]\n",
      " [92.  94.  95.  96.  98. ]]\n"
     ]
    }
   ],
   "source": [
    "# Splitting the consolidated array for Company P and Company Q along axis=0\n",
    "split_stock_prices = np.split(consolidated_stock_prices, [4], axis=0)\n",
    "\n",
    "# Display the split arrays for Company P and Company Q\n",
    "print(\"Split stock prices arrays for Companies P and Q:\")\n",
    "print(\"Company P:\")\n",
    "print(split_stock_prices[0])\n",
    "print(\"\\nCompany Q:\")\n",
    "print(split_stock_prices[1])"
   ]
  },
  {
   "cell_type": "markdown",
   "id": "e2dddf4b",
   "metadata": {},
   "source": [
    "### 3.4 Explanation of Concepts\n",
    "\n",
    "- **Array Concatenation for Comprehensive Insights:** Concatenating arrays along axis=0 is ideal when combining data from multiple quarters for the same company. Concatenating along axis=1 is useful for quarter-wise comparison across different companies.\n",
    "\n",
    "- **Array Splitting for Focused Analysis:** Splitting arrays helps you isolate specific data segments for targeted assessments, facilitating in-depth evaluations of individual companies or quarters."
   ]
  },
  {
   "cell_type": "markdown",
   "id": "d4273fdf",
   "metadata": {},
   "source": [
    "## Section 4: Array Broadcasting\n",
    "\n",
    "### 4.1 Problem Statement\n",
    "\n",
    "As a financial analyst, you often encounter scenarios where you need to perform element-wise operations on arrays of different shapes. Array broadcasting is a powerful tool that allows you to efficiently apply operations to arrays with varying dimensions. In this section, we will dive deep into the concept of array broadcasting using financial data to illustrate its practical applications.\n",
    "\n",
    "### 4.2 Understanding Array Broadcasting\n",
    "\n",
    "Imagine you're analyzing the quarterly revenue growth of two companies, Company X and Company Y. You have their revenue data as well as a global market factor that affects each quarter's revenue. The challenge is that the market factor is a scalar value, whereas the revenue data is an array. Array broadcasting enables you to perform element-wise multiplication effectively.\n",
    "\n",
    "#### 4.2.1 Broadcasting for Revenue Growth Analysis"
   ]
  },
  {
   "cell_type": "code",
   "execution_count": 15,
   "id": "61101942",
   "metadata": {},
   "outputs": [
    {
     "name": "stdout",
     "output_type": "stream",
     "text": [
      "Adjusted revenue for Company X:\n",
      "[[105.   115.5  120.75 126.  ]\n",
      " [136.5  131.25 141.75 147.  ]\n",
      " [152.25 157.5  162.75 168.  ]]\n",
      "\n",
      "Adjusted revenue for Company Y:\n",
      "[[ 84.    89.25  94.5   99.75]\n",
      " [110.25 105.   115.5  120.75]\n",
      " [126.   131.25 136.5  141.75]]\n"
     ]
    }
   ],
   "source": [
    "import numpy as np\n",
    "\n",
    "# Quarterly revenue data for Company X and Company Y\n",
    "revenue_x = np.array([[100, 110, 115, 120],\n",
    "                      [130, 125, 135, 140],\n",
    "                      [145, 150, 155, 160]])\n",
    "\n",
    "revenue_y = np.array([[80, 85, 90, 95],\n",
    "                      [105, 100, 110, 115],\n",
    "                      [120, 125, 130, 135]])\n",
    "\n",
    "# Global market factor affecting revenue growth\n",
    "market_factor = 1.05\n",
    "\n",
    "# Applying array broadcasting to perform element-wise multiplication\n",
    "adjusted_revenue_x = revenue_x * market_factor\n",
    "adjusted_revenue_y = revenue_y * market_factor\n",
    "\n",
    "# Display the adjusted revenue arrays for Company X and Company Y\n",
    "print(\"Adjusted revenue for Company X:\")\n",
    "print(adjusted_revenue_x)\n",
    "\n",
    "print(\"\\nAdjusted revenue for Company Y:\")\n",
    "print(adjusted_revenue_y)"
   ]
  },
  {
   "cell_type": "markdown",
   "id": "7788ed87",
   "metadata": {},
   "source": [
    "### 4.3 Broadcasting with Arrays of Different Dimensions\n",
    "\n",
    "In financial analysis, you often encounter scenarios where you need to combine data from multiple sources for comparison. Broadcasting allows you to perform operations even when the arrays have different dimensions.\n",
    "\n",
    "#### 4.3.1 Broadcasting for Cross-Company Comparison\n"
   ]
  },
  {
   "cell_type": "code",
   "execution_count": 16,
   "id": "e1b7a346",
   "metadata": {},
   "outputs": [
    {
     "name": "stdout",
     "output_type": "stream",
     "text": [
      "Expense ratios for Company X:\n",
      "[[1.66666667 1.69230769 1.64285714 1.6       ]\n",
      " [2.16666667 1.92307692 1.92857143 1.86666667]\n",
      " [2.41666667 2.30769231 2.21428571 2.13333333]]\n",
      "\n",
      "Expense ratios for Company Y:\n",
      "[[1.77777778 1.7        1.63636364 1.58333333]\n",
      " [2.33333333 2.         2.         1.91666667]\n",
      " [2.66666667 2.5        2.36363636 2.25      ]]\n"
     ]
    }
   ],
   "source": [
    "# Quarterly expenses data for Company X and Company Y\n",
    "expenses_x = np.array([60, 65, 70, 75])\n",
    "expenses_y = np.array([45, 50, 55, 60])\n",
    "\n",
    "# Applying array broadcasting for cross-company comparison\n",
    "expense_ratio_x = revenue_x / expenses_x\n",
    "expense_ratio_y = revenue_y / expenses_y\n",
    "\n",
    "# Display the expense ratios for Company X and Company Y\n",
    "print(\"Expense ratios for Company X:\")\n",
    "print(expense_ratio_x)\n",
    "\n",
    "print(\"\\nExpense ratios for Company Y:\")\n",
    "print(expense_ratio_y)"
   ]
  },
  {
   "cell_type": "markdown",
   "id": "345294b5",
   "metadata": {},
   "source": [
    "### 4.4 Broadcasting Rules and Implications\n",
    "\n",
    "Understanding the broadcasting rules is crucial to ensure accurate and meaningful calculations. NumPy follows specific rules to determine how arrays of different shapes are broadcasted.\n",
    "\n",
    "#### 4.4.1 Broadcasting Rules and Examples"
   ]
  },
  {
   "cell_type": "code",
   "execution_count": 17,
   "id": "6dfa20a6",
   "metadata": {},
   "outputs": [
    {
     "ename": "ValueError",
     "evalue": "operands could not be broadcast together with shapes (3,4) (2,4) ",
     "output_type": "error",
     "traceback": [
      "\u001b[0;31m---------------------------------------------------------------------------\u001b[0m",
      "\u001b[0;31mValueError\u001b[0m                                Traceback (most recent call last)",
      "Input \u001b[0;32mIn [17]\u001b[0m, in \u001b[0;36m<cell line: 10>\u001b[0;34m()\u001b[0m\n\u001b[1;32m     10\u001b[0m \u001b[38;5;28;01mif\u001b[39;00m profit_x\u001b[38;5;241m.\u001b[39mshape \u001b[38;5;241m!=\u001b[39m profit_y\u001b[38;5;241m.\u001b[39mshape:\n\u001b[1;32m     11\u001b[0m     \u001b[38;5;66;03m# Reshaping profit_y to match the shape of profit_x\u001b[39;00m\n\u001b[1;32m     12\u001b[0m     profit_y_reshaped \u001b[38;5;241m=\u001b[39m profit_y\u001b[38;5;241m.\u001b[39mreshape(\u001b[38;5;241m2\u001b[39m, \u001b[38;5;241m4\u001b[39m)\n\u001b[0;32m---> 13\u001b[0m     combined_profit \u001b[38;5;241m=\u001b[39m \u001b[43mprofit_x\u001b[49m\u001b[43m \u001b[49m\u001b[38;5;241;43m+\u001b[39;49m\u001b[43m \u001b[49m\u001b[43mprofit_y_reshaped\u001b[49m\n\u001b[1;32m     14\u001b[0m \u001b[38;5;28;01melse\u001b[39;00m:\n\u001b[1;32m     15\u001b[0m     combined_profit \u001b[38;5;241m=\u001b[39m profit_x \u001b[38;5;241m+\u001b[39m profit_y\n",
      "\u001b[0;31mValueError\u001b[0m: operands could not be broadcast together with shapes (3,4) (2,4) "
     ]
    }
   ],
   "source": [
    "# Quarterly profit data for Company X and Company Y\n",
    "profit_x = np.array([[40, 45, 50, 55],\n",
    "                     [60, 55, 65, 70],\n",
    "                     [75, 80, 85, 90]])\n",
    "\n",
    "profit_y = np.array([[30, 35, 40, 45],\n",
    "                     [50, 45, 55, 60]])\n",
    "\n",
    "# Broadcasting with arrays of different dimensions\n",
    "if profit_x.shape != profit_y.shape:\n",
    "    # Reshaping profit_y to match the shape of profit_x\n",
    "    profit_y_reshaped = profit_y.reshape(2, 4)\n",
    "    combined_profit = profit_x + profit_y_reshaped\n",
    "else:\n",
    "    combined_profit = profit_x + profit_y\n",
    "\n",
    "# Display the combined profit array for Company X and Company Y\n",
    "print(\"Combined profit for Company X and Company Y:\")\n",
    "print(combined_profit)"
   ]
  },
  {
   "cell_type": "markdown",
   "id": "34d61ba0",
   "metadata": {},
   "source": [
    "## Section 5: Array Iteration and Manipulation\n",
    "\n",
    "### 5.1 Problem Statement\n",
    "\n",
    "As a financial analyst, efficiently iterating through arrays and performing manipulations is essential for extracting insights from complex financial data. In this section, we will explore array iteration using `nditer` and manipulation techniques that include reshaping, rolling, and swapping axes, using 3D arrays to showcase their practical applications.\n",
    "\n",
    "### 5.2 Array Iteration with nditer\n",
    "\n",
    "Imagine you're analyzing quarterly sales data for two products, Product X and Product Y, across different regions. You want to calculate the total sales for each product in each region and then determine the overall average sales.\n",
    "\n",
    "#### 5.2.1 Iterating Through Sales Data"
   ]
  },
  {
   "cell_type": "code",
   "execution_count": 19,
   "id": "fdd5bb36",
   "metadata": {},
   "outputs": [
    {
     "name": "stdout",
     "output_type": "stream",
     "text": [
      "Total sales: 3720\n",
      "Average sales: 310.0\n"
     ]
    }
   ],
   "source": [
    "import numpy as np\n",
    "\n",
    "# Quarterly sales data for Product X and Product Y across regions\n",
    "sales_x = np.array([[[120, 130], [140, 150]],\n",
    "                    [[160, 170], [180, 190]],\n",
    "                    [[200, 210], [220, 230]]])\n",
    "\n",
    "sales_y = np.array([[[80, 90], [100, 110]],\n",
    "                    [[120, 130], [140, 150]],\n",
    "                    [[160, 170], [180, 190]]])\n",
    "\n",
    "# Using nditer to iterate through 3D sales arrays\n",
    "total_sales = 0\n",
    "num_entries = 0\n",
    "\n",
    "with np.nditer([sales_x, sales_y]) as it:\n",
    "    for x, y in it:\n",
    "        total_sales += x + y\n",
    "        num_entries += 1\n",
    "\n",
    "average_sales = total_sales / num_entries\n",
    "\n",
    "# Display total and average sales\n",
    "print(\"Total sales:\", total_sales)\n",
    "print(\"Average sales:\", average_sales)"
   ]
  },
  {
   "cell_type": "markdown",
   "id": "5845ac48",
   "metadata": {},
   "source": [
    "In this example, the `sales_x` and `sales_y` arrays represent the quarterly sales data for Product X and Product Y across different regions. The first axis represents the quarters, the second axis represents the regions, and the third axis represents the actual sales data.\n",
    "\n",
    "### 5.3 Array Manipulation: Reshaping, Rolling, and Swapping Axes\n",
    "\n",
    "#### 5.3.1 Reshaping 3D Data for Analysis"
   ]
  },
  {
   "cell_type": "code",
   "execution_count": 20,
   "id": "0e145ff1",
   "metadata": {},
   "outputs": [
    {
     "name": "stdout",
     "output_type": "stream",
     "text": [
      "Reshaped profit array for Product X:\n",
      "[[[ 40  50]\n",
      "  [ 60  70]\n",
      "  [ 80  90]]\n",
      "\n",
      " [[100 110]\n",
      "  [120 130]\n",
      "  [140 150]]]\n"
     ]
    }
   ],
   "source": [
    "# Quarterly profit data for Product X\n",
    "profit_x = np.array([[[40, 50], [60, 70]],\n",
    "                     [[80, 90], [100, 110]],\n",
    "                     [[120, 130], [140, 150]]])\n",
    "\n",
    "# Reshaping the profit data for analysis\n",
    "reshaped_profit_x = profit_x.reshape(2, 3, 2)\n",
    "\n",
    "# Display the reshaped profit array for Product X\n",
    "print(\"Reshaped profit array for Product X:\")\n",
    "print(reshaped_profit_x)"
   ]
  },
  {
   "cell_type": "markdown",
   "id": "a287dffa",
   "metadata": {},
   "source": [
    "In this example, the `profit_x` array represents quarterly profit data for Product X. The reshaped array `reshaped_profit_x` has dimensions (2, 3, 2), where the first axis represents a different perspective of the data.\n",
    "\n",
    "#### 5.3.2 Rolling and Swapping Axes in 3D"
   ]
  },
  {
   "cell_type": "code",
   "execution_count": 21,
   "id": "810565d4",
   "metadata": {},
   "outputs": [
    {
     "name": "stdout",
     "output_type": "stream",
     "text": [
      "Rolled expense array for Product Y:\n",
      "[[[25 20]\n",
      "  [35 30]]\n",
      "\n",
      " [[45 40]\n",
      "  [55 50]]\n",
      "\n",
      " [[65 60]\n",
      "  [75 70]]]\n",
      "Profit array with swapped axes for Product X:\n",
      "[[[ 40 100]\n",
      "  [ 60 120]\n",
      "  [ 80 140]]\n",
      "\n",
      " [[ 50 110]\n",
      "  [ 70 130]\n",
      "  [ 90 150]]]\n"
     ]
    }
   ],
   "source": [
    "# Quarterly expense data for Product Y\n",
    "expenses_y = np.array([[[20, 25], [30, 35]],\n",
    "                       [[40, 45], [50, 55]],\n",
    "                       [[60, 65], [70, 75]]])\n",
    "\n",
    "# Rolling the expense data to shift columns in each region\n",
    "rolled_expenses_y = np.roll(expenses_y, shift=1, axis=2)\n",
    "\n",
    "# Display the rolled expense array for Product Y\n",
    "print(\"Rolled expense array for Product Y:\")\n",
    "print(rolled_expenses_y)\n",
    "\n",
    "# Swapping axes for profit data of Product X\n",
    "swapped_axes_profit_x = np.swapaxes(reshaped_profit_x, axis1=0, axis2=2)\n",
    "\n",
    "# Display the profit array with swapped axes for Product X\n",
    "print(\"Profit array with swapped axes for Product X:\")\n",
    "print(swapped_axes_profit_x)"
   ]
  },
  {
   "cell_type": "markdown",
   "id": "946054eb",
   "metadata": {},
   "source": [
    "In this example, the `expenses_y` array represents quarterly expense data for Product Y. The rolling and swapping operations involve manipulating axes to gain different insights from the data."
   ]
  },
  {
   "cell_type": "markdown",
   "id": "0f66a497",
   "metadata": {},
   "source": [
    "## Section 6: Array Copy and Views\n",
    "\n",
    "### 6.1 Problem Statement\n",
    "\n",
    "As a financial analyst, you frequently work with large datasets and need to manage data efficiently. In this section, we will delve into the concepts of array copying and creating views, essential for data management, analysis, and making informed financial decisions.\n",
    "\n",
    "### 6.2 Array Copying\n",
    "\n",
    "Consider a scenario where you have quarterly revenue data for two companies, Company P and Company Q, and you want to create a copy of the data for further analysis. It's crucial to understand the distinction between a shallow copy and a deep copy.\n",
    "\n",
    "#### 6.2.1 Creating Shallow and Deep Copies\n"
   ]
  },
  {
   "cell_type": "code",
   "execution_count": 22,
   "id": "b0af455b",
   "metadata": {},
   "outputs": [
    {
     "name": "stdout",
     "output_type": "stream",
     "text": [
      "Original revenue data for Company P:\n",
      "[250 210 220 230]\n",
      "\n",
      "Shallow copy of revenue data for Company P:\n",
      "[250 210 220 230]\n",
      "\n",
      "Deep copy of revenue data for Company Q:\n",
      "[160 190 200 210]\n"
     ]
    }
   ],
   "source": [
    "import numpy as np\n",
    "\n",
    "# Quarterly revenue data for Company P and Company Q\n",
    "revenue_p = np.array([200, 210, 220, 230])\n",
    "revenue_q = np.array([180, 190, 200, 210])\n",
    "\n",
    "# Creating a shallow copy\n",
    "shallow_copy_p = revenue_p.view()\n",
    "\n",
    "# Creating a deep copy\n",
    "deep_copy_q = revenue_q.copy()\n",
    "\n",
    "# Modifying the shallow copy and deep copy\n",
    "shallow_copy_p[0] = 250\n",
    "deep_copy_q[0] = 160\n",
    "\n",
    "# Display the original, shallow copy, and deep copy arrays\n",
    "print(\"Original revenue data for Company P:\")\n",
    "print(revenue_p)\n",
    "\n",
    "print(\"\\nShallow copy of revenue data for Company P:\")\n",
    "print(shallow_copy_p)\n",
    "\n",
    "print(\"\\nDeep copy of revenue data for Company Q:\")\n",
    "print(deep_copy_q)"
   ]
  },
  {
   "cell_type": "markdown",
   "id": "ec456b3d",
   "metadata": {},
   "source": [
    "### 6.3 Creating Views\n",
    "\n",
    "Suppose you're analyzing quarterly expenses data for Company R and you want to create a view that shows expenses above a certain threshold. Views provide a memory-efficient way to manipulate and analyze data without creating a separate copy.\n",
    "\n",
    "#### 6.3.1 Creating Views for Selective Analysis"
   ]
  },
  {
   "cell_type": "code",
   "execution_count": 24,
   "id": "d06acd11",
   "metadata": {},
   "outputs": [
    {
     "name": "stdout",
     "output_type": "stream",
     "text": [
      "Original expenses data for Company R:\n",
      "[ 70  80  90 100]\n",
      "\n",
      "View of expenses above threshold for Company R:\n",
      "[110 100]\n"
     ]
    }
   ],
   "source": [
    "# Quarterly expenses data for Company R\n",
    "expenses_r = np.array([70, 80, 90, 100])\n",
    "\n",
    "# Creating a view for expenses above a threshold\n",
    "threshold = 85\n",
    "above_threshold_view = expenses_r[expenses_r > threshold]\n",
    "\n",
    "# Modifying the view\n",
    "above_threshold_view[0] = 110\n",
    "\n",
    "# Display the original expenses array and the view\n",
    "print(\"Original expenses data for Company R:\")\n",
    "print(expenses_r)\n",
    "\n",
    "print(\"\\nView of expenses above threshold for Company R:\")\n",
    "print(above_threshold_view)"
   ]
  },
  {
   "cell_type": "markdown",
   "id": "2b9dd40d",
   "metadata": {},
   "source": [
    "## Section 7: Mathematical Functions and Operations\n",
    "\n",
    "### 7.1 Problem Statement\n",
    "\n",
    "As a financial analyst, performing mathematical calculations on financial data is a fundamental aspect of your role. In this section, we will delve into a wide range of mathematical functions and operations provided by NumPy, tailored to the specific needs of financial data analysis.\n",
    "\n",
    "### 7.2 Basic Mathematical Functions\n",
    "\n",
    "Let's consider a scenario where you're analyzing investment growth for a portfolio over several years. You need to calculate the compound annual growth rate (CAGR) to evaluate the overall performance.\n",
    "\n",
    "#### 7.2.1 Calculating Compound Annual Growth Rate (CAGR)\n"
   ]
  },
  {
   "cell_type": "code",
   "execution_count": 25,
   "id": "04282d1c",
   "metadata": {},
   "outputs": [
    {
     "name": "stdout",
     "output_type": "stream",
     "text": [
      "Compound Annual Growth Rate (CAGR): 14.87%\n"
     ]
    }
   ],
   "source": [
    "import numpy as np\n",
    "\n",
    "# Investment value over 5 years\n",
    "investment_value = np.array([1000, 1200, 1500, 1800, 2000])\n",
    "\n",
    "# Calculate the CAGR\n",
    "years = len(investment_value)\n",
    "initial_value = investment_value[0]\n",
    "final_value = investment_value[-1]\n",
    "cagr = ((final_value / initial_value) ** (1 / years)) - 1\n",
    "\n",
    "# Display the CAGR as a percentage\n",
    "print(\"Compound Annual Growth Rate (CAGR): {:.2%}\".format(cagr))"
   ]
  },
  {
   "cell_type": "markdown",
   "id": "1808e00f",
   "metadata": {},
   "source": [
    "### 7.3 Element-wise Operations\n",
    "\n",
    "Suppose you're analyzing stock prices for two companies, Company X and Company Y, over a specific period. You want to calculate the daily percentage change in stock prices and assess their correlation.\n",
    "\n",
    "#### 7.3.1 Calculating Percentage Change and Correlation"
   ]
  },
  {
   "cell_type": "code",
   "execution_count": 26,
   "id": "6ffda6b6",
   "metadata": {},
   "outputs": [
    {
     "name": "stdout",
     "output_type": "stream",
     "text": [
      "Daily Percentage Change for Company X: [ 0.04        0.05769231 -0.03636364 -0.03773585]\n",
      "Daily Percentage Change for Company Y: [0.02857143 0.04166667 0.01333333 0.02631579]\n",
      "Correlation Coefficient: 0.8142896256383058\n"
     ]
    }
   ],
   "source": [
    "# Stock prices for Company X and Company Y over 5 days\n",
    "prices_x = np.array([50, 52, 55, 53, 51])\n",
    "prices_y = np.array([70, 72, 75, 76, 78])\n",
    "\n",
    "# Calculate the daily percentage change in stock prices\n",
    "percentage_change_x = np.diff(prices_x) / prices_x[:-1]\n",
    "percentage_change_y = np.diff(prices_y) / prices_y[:-1]\n",
    "\n",
    "# Calculate the correlation coefficient between the two stocks\n",
    "correlation_coefficient = np.corrcoef(percentage_change_x, percentage_change_y)[0, 1]\n",
    "\n",
    "# Display the daily percentage change and correlation\n",
    "print(\"Daily Percentage Change for Company X:\", percentage_change_x)\n",
    "print(\"Daily Percentage Change for Company Y:\", percentage_change_y)\n",
    "print(\"Correlation Coefficient:\", correlation_coefficient)"
   ]
  },
  {
   "cell_type": "markdown",
   "id": "20bf72fe",
   "metadata": {},
   "source": [
    "### 7.4 Aggregation and Summary Statistics\n",
    "\n",
    "Imagine you're analyzing the annual sales data for a company, and you want to determine the average, minimum, and maximum sales.\n",
    "\n",
    "#### 7.4.1 Calculating Aggregation and Summary Statistics"
   ]
  },
  {
   "cell_type": "code",
   "execution_count": 27,
   "id": "653fa515",
   "metadata": {},
   "outputs": [
    {
     "name": "stdout",
     "output_type": "stream",
     "text": [
      "Average Annual Sales: 3000.0\n",
      "Minimum Annual Sales: 2500\n",
      "Maximum Annual Sales: 3500\n"
     ]
    }
   ],
   "source": [
    "# Annual sales data for a company over 5 years (in thousands)\n",
    "annual_sales = np.array([2500, 2800, 3200, 3000, 3500])\n",
    "\n",
    "# Calculate the average, minimum, and maximum sales\n",
    "average_sales = np.mean(annual_sales)\n",
    "min_sales = np.min(annual_sales)\n",
    "max_sales = np.max(annual_sales)\n",
    "\n",
    "# Display the aggregation and summary statistics\n",
    "print(\"Average Annual Sales:\", average_sales)\n",
    "print(\"Minimum Annual Sales:\", min_sales)\n",
    "print(\"Maximum Annual Sales:\", max_sales)"
   ]
  },
  {
   "cell_type": "code",
   "execution_count": null,
   "id": "1699179c",
   "metadata": {},
   "outputs": [],
   "source": []
  }
 ],
 "metadata": {
  "kernelspec": {
   "display_name": "Python 3 (ipykernel)",
   "language": "python",
   "name": "python3"
  },
  "language_info": {
   "codemirror_mode": {
    "name": "ipython",
    "version": 3
   },
   "file_extension": ".py",
   "mimetype": "text/x-python",
   "name": "python",
   "nbconvert_exporter": "python",
   "pygments_lexer": "ipython3",
   "version": "3.9.10"
  }
 },
 "nbformat": 4,
 "nbformat_minor": 5
}
